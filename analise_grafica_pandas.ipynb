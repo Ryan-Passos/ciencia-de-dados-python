{
  "nbformat": 4,
  "nbformat_minor": 0,
  "metadata": {
    "colab": {
      "provenance": [],
      "authorship_tag": "ABX9TyNgSu4+rWWL3pWtwRQHpwyI",
      "include_colab_link": true
    },
    "kernelspec": {
      "name": "python3",
      "display_name": "Python 3"
    },
    "language_info": {
      "name": "python"
    }
  },
  "cells": [
    {
      "cell_type": "markdown",
      "metadata": {
        "id": "view-in-github",
        "colab_type": "text"
      },
      "source": [
        "<a href=\"https://colab.research.google.com/github/Ryan-Passos/ciencia-de-dados-python/blob/main/analise_grafica_pandas.ipynb\" target=\"_parent\"><img src=\"https://colab.research.google.com/assets/colab-badge.svg\" alt=\"Open In Colab\"/></a>"
      ]
    },
    {
      "cell_type": "markdown",
      "source": [
        "### Estime quantas horas no ano a população brasileira passou em média assistindo filmes ou séries. Essa estimativa deve ser feita para 2020, 2021 e 2022 isoladamente"
      ],
      "metadata": {
        "id": "sLtDismuRtSs"
      }
    },
    {
      "cell_type": "markdown",
      "source": [
        "##Fontes\n",
        "2020:https://telepadi.folha.uol.com.br/brasileiro-passou-em-media-7h09-por-dia-diante-da-tv-em-2020-com-recordes-de-audiencia/\n",
        "\n",
        "2021:https://exame.com/carreira/menos-videos-mais-trabalho-veja-como-brasileiros-usam-a-internet-em-2021/\n",
        "\n",
        "2022:https://www.terra.com.br/diversao/tv/quanto-tempo-o-brasileiro-passa-diante-da-tv-e-o-que-assiste,204c44a73d4951f440a1368dae8d79f67v3gnanp.html"
      ],
      "metadata": {
        "id": "eQQi_UPrcIBA"
      }
    },
    {
      "cell_type": "markdown",
      "source": [
        "# Dados obtidos de acordo com as fontes acima:\n",
        "\n",
        "Mês = 30 dias\n",
        "##- O tempo assistido em 2020\n",
        "2020: 7h e 9min = 429 minutos\n",
        "\n",
        "429 * Mês * 12 = 154000 minutos totais\n",
        "\n",
        "##- O tempo assistido em 2021 caiu 12 % em relação ao de 2020\n",
        "2021: 2020 - 12% = 135520 minutos totais\n",
        "\n",
        "##- O tempo assistido em 2022\n",
        "2022: 5h e 37 min = 337 minutos\n",
        "\n",
        "337 * Mês * 12 = 121320 minutos totais\n"
      ],
      "metadata": {
        "id": "E-ZCh63FcksE"
      }
    },
    {
      "cell_type": "code",
      "execution_count": 1,
      "metadata": {
        "id": "a90128wsP8wh"
      },
      "outputs": [],
      "source": [
        "import pandas as pd"
      ]
    },
    {
      "cell_type": "code",
      "source": [
        "# Criando DF\n",
        "dados = [154000,\n",
        "         135520,\n",
        "         121320]\n",
        "index = ['2020', '2021', '2022']\n",
        "dados = pd.DataFrame(data = dados, index = index)\n",
        "dados.reset_index(inplace =True)\n",
        "dados.columns = ['Anos', 'Minutos']\n",
        "dados"
      ],
      "metadata": {
        "colab": {
          "base_uri": "https://localhost:8080/",
          "height": 143
        },
        "id": "Y2Fa-Xf-RuXe",
        "outputId": "5f355f73-3d77-403a-eb85-d231ee50c5d6"
      },
      "execution_count": 2,
      "outputs": [
        {
          "output_type": "execute_result",
          "data": {
            "text/plain": [
              "   Anos  Minutos\n",
              "0  2020   154000\n",
              "1  2021   135520\n",
              "2  2022   121320"
            ],
            "text/html": [
              "\n",
              "  <div id=\"df-f7530f37-c62b-4dc8-bba3-0aed5390b5b3\">\n",
              "    <div class=\"colab-df-container\">\n",
              "      <div>\n",
              "<style scoped>\n",
              "    .dataframe tbody tr th:only-of-type {\n",
              "        vertical-align: middle;\n",
              "    }\n",
              "\n",
              "    .dataframe tbody tr th {\n",
              "        vertical-align: top;\n",
              "    }\n",
              "\n",
              "    .dataframe thead th {\n",
              "        text-align: right;\n",
              "    }\n",
              "</style>\n",
              "<table border=\"1\" class=\"dataframe\">\n",
              "  <thead>\n",
              "    <tr style=\"text-align: right;\">\n",
              "      <th></th>\n",
              "      <th>Anos</th>\n",
              "      <th>Minutos</th>\n",
              "    </tr>\n",
              "  </thead>\n",
              "  <tbody>\n",
              "    <tr>\n",
              "      <th>0</th>\n",
              "      <td>2020</td>\n",
              "      <td>154000</td>\n",
              "    </tr>\n",
              "    <tr>\n",
              "      <th>1</th>\n",
              "      <td>2021</td>\n",
              "      <td>135520</td>\n",
              "    </tr>\n",
              "    <tr>\n",
              "      <th>2</th>\n",
              "      <td>2022</td>\n",
              "      <td>121320</td>\n",
              "    </tr>\n",
              "  </tbody>\n",
              "</table>\n",
              "</div>\n",
              "      <button class=\"colab-df-convert\" onclick=\"convertToInteractive('df-f7530f37-c62b-4dc8-bba3-0aed5390b5b3')\"\n",
              "              title=\"Convert this dataframe to an interactive table.\"\n",
              "              style=\"display:none;\">\n",
              "        \n",
              "  <svg xmlns=\"http://www.w3.org/2000/svg\" height=\"24px\"viewBox=\"0 0 24 24\"\n",
              "       width=\"24px\">\n",
              "    <path d=\"M0 0h24v24H0V0z\" fill=\"none\"/>\n",
              "    <path d=\"M18.56 5.44l.94 2.06.94-2.06 2.06-.94-2.06-.94-.94-2.06-.94 2.06-2.06.94zm-11 1L8.5 8.5l.94-2.06 2.06-.94-2.06-.94L8.5 2.5l-.94 2.06-2.06.94zm10 10l.94 2.06.94-2.06 2.06-.94-2.06-.94-.94-2.06-.94 2.06-2.06.94z\"/><path d=\"M17.41 7.96l-1.37-1.37c-.4-.4-.92-.59-1.43-.59-.52 0-1.04.2-1.43.59L10.3 9.45l-7.72 7.72c-.78.78-.78 2.05 0 2.83L4 21.41c.39.39.9.59 1.41.59.51 0 1.02-.2 1.41-.59l7.78-7.78 2.81-2.81c.8-.78.8-2.07 0-2.86zM5.41 20L4 18.59l7.72-7.72 1.47 1.35L5.41 20z\"/>\n",
              "  </svg>\n",
              "      </button>\n",
              "      \n",
              "  <style>\n",
              "    .colab-df-container {\n",
              "      display:flex;\n",
              "      flex-wrap:wrap;\n",
              "      gap: 12px;\n",
              "    }\n",
              "\n",
              "    .colab-df-convert {\n",
              "      background-color: #E8F0FE;\n",
              "      border: none;\n",
              "      border-radius: 50%;\n",
              "      cursor: pointer;\n",
              "      display: none;\n",
              "      fill: #1967D2;\n",
              "      height: 32px;\n",
              "      padding: 0 0 0 0;\n",
              "      width: 32px;\n",
              "    }\n",
              "\n",
              "    .colab-df-convert:hover {\n",
              "      background-color: #E2EBFA;\n",
              "      box-shadow: 0px 1px 2px rgba(60, 64, 67, 0.3), 0px 1px 3px 1px rgba(60, 64, 67, 0.15);\n",
              "      fill: #174EA6;\n",
              "    }\n",
              "\n",
              "    [theme=dark] .colab-df-convert {\n",
              "      background-color: #3B4455;\n",
              "      fill: #D2E3FC;\n",
              "    }\n",
              "\n",
              "    [theme=dark] .colab-df-convert:hover {\n",
              "      background-color: #434B5C;\n",
              "      box-shadow: 0px 1px 3px 1px rgba(0, 0, 0, 0.15);\n",
              "      filter: drop-shadow(0px 1px 2px rgba(0, 0, 0, 0.3));\n",
              "      fill: #FFFFFF;\n",
              "    }\n",
              "  </style>\n",
              "\n",
              "      <script>\n",
              "        const buttonEl =\n",
              "          document.querySelector('#df-f7530f37-c62b-4dc8-bba3-0aed5390b5b3 button.colab-df-convert');\n",
              "        buttonEl.style.display =\n",
              "          google.colab.kernel.accessAllowed ? 'block' : 'none';\n",
              "\n",
              "        async function convertToInteractive(key) {\n",
              "          const element = document.querySelector('#df-f7530f37-c62b-4dc8-bba3-0aed5390b5b3');\n",
              "          const dataTable =\n",
              "            await google.colab.kernel.invokeFunction('convertToInteractive',\n",
              "                                                     [key], {});\n",
              "          if (!dataTable) return;\n",
              "\n",
              "          const docLinkHtml = 'Like what you see? Visit the ' +\n",
              "            '<a target=\"_blank\" href=https://colab.research.google.com/notebooks/data_table.ipynb>data table notebook</a>'\n",
              "            + ' to learn more about interactive tables.';\n",
              "          element.innerHTML = '';\n",
              "          dataTable['output_type'] = 'display_data';\n",
              "          await google.colab.output.renderOutput(dataTable, element);\n",
              "          const docLink = document.createElement('div');\n",
              "          docLink.innerHTML = docLinkHtml;\n",
              "          element.appendChild(docLink);\n",
              "        }\n",
              "      </script>\n",
              "    </div>\n",
              "  </div>\n",
              "  "
            ]
          },
          "metadata": {},
          "execution_count": 2
        }
      ]
    },
    {
      "cell_type": "code",
      "source": [
        "import seaborn as sns"
      ],
      "metadata": {
        "id": "C0dJeot1cCgk"
      },
      "execution_count": 3,
      "outputs": []
    },
    {
      "cell_type": "code",
      "source": [
        "# Plotando Gráfico com o Total de minutos assistidos:\n",
        "ax = sns.barplot(data = dados, x = 'Anos', y='Minutos')\n",
        "ax.set_title('Total de Minutos Assistidos', fontsize = 20)\n",
        "ax.set_ylabel('Minutos', fontsize = 16)\n",
        "ax.set_xlabel('Anos', fontsize = 16)\n",
        "ax.figure.set_size_inches(15,8)"
      ],
      "metadata": {
        "colab": {
          "base_uri": "https://localhost:8080/",
          "height": 523
        },
        "id": "JYDopdgBfug6",
        "outputId": "375635c6-e019-4946-ee87-eaa3164506d4"
      },
      "execution_count": 4,
      "outputs": [
        {
          "output_type": "display_data",
          "data": {
            "text/plain": [
              "<Figure size 1080x576 with 1 Axes>"
            ],
            "image/png": "[encoded data removed]"
          },
          "metadata": {
            "needs_background": "light"
          }
        }
      ]
    },
    {
      "cell_type": "markdown",
      "source": [
        "#### É possível visualizar uma queda considerável no tempo assistido de tv na casa dos brasileiros do ano de 2020 para 2021. Isso ocorreu devido a pandemia da COVID-19, onde os brasileiros estavam trancados em suas casas devido ao lockdown. Sendo possível visualizar a queda no ano seguinte de 2022. Isso se deve a algumas empresas voltando ao seu trabalho presencialmente e as vacinas da COVID que nos possibilitaram uma liberdade maior e um regresso à vida normal."
      ],
      "metadata": {
        "id": "xxIaaNRrsCD2"
      }
    }
  ]
}