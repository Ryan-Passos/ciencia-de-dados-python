{
  "nbformat": 4,
  "nbformat_minor": 0,
  "metadata": {
    "colab": {
      "provenance": []
    },
    "kernelspec": {
      "name": "python3",
      "display_name": "Python 3"
    },
    "language_info": {
      "name": "python"
    }
  },
  "cells": [
    {
      "cell_type": "markdown",
      "source": [
        "# Importando Base de Dados"
      ],
      "metadata": {
        "id": "sHD13OW9qdmO"
      }
    },
    {
      "cell_type": "code",
      "execution_count": 29,
      "metadata": {
        "id": "7bZAfFCpqQZD"
      },
      "outputs": [],
      "source": [
        "import pandas as pd"
      ]
    },
    {
      "cell_type": "code",
      "source": [
        "dados = pd.read_csv('aluguel.csv', sep = ';')\n",
        "dados.head(5)"
      ],
      "metadata": {
        "colab": {
          "base_uri": "https://localhost:8080/",
          "height": 206
        },
        "id": "DwSZOugxrYLC",
        "outputId": "6a2b6a78-44e3-4d55-86c9-4395c7772549"
      },
      "execution_count": 30,
      "outputs": [
        {
          "output_type": "execute_result",
          "data": {
            "text/plain": [
              "                      Tipo           Bairro  Quartos  Vagas  Suites  Area  \\\n",
              "0                Quitinete       Copacabana        1      0       0    40   \n",
              "1                     Casa  Jardim Botânico        2      0       1   100   \n",
              "2  Conjunto Comercial/Sala  Barra da Tijuca        0      4       0   150   \n",
              "3              Apartamento           Centro        1      0       0    15   \n",
              "4              Apartamento     Higienópolis        1      0       0    48   \n",
              "\n",
              "    Valor  Condominio    IPTU  \n",
              "0  1700.0       500.0    60.0  \n",
              "1  7000.0         NaN     NaN  \n",
              "2  5200.0      4020.0  1111.0  \n",
              "3   800.0       390.0    20.0  \n",
              "4   800.0       230.0     NaN  "
            ],
            "text/html": [
              "\n",
              "  <div id=\"df-6e01bf10-0fbd-46b6-a088-96d96e4086a9\">\n",
              "    <div class=\"colab-df-container\">\n",
              "      <div>\n",
              "<style scoped>\n",
              "    .dataframe tbody tr th:only-of-type {\n",
              "        vertical-align: middle;\n",
              "    }\n",
              "\n",
              "    .dataframe tbody tr th {\n",
              "        vertical-align: top;\n",
              "    }\n",
              "\n",
              "    .dataframe thead th {\n",
              "        text-align: right;\n",
              "    }\n",
              "</style>\n",
              "<table border=\"1\" class=\"dataframe\">\n",
              "  <thead>\n",
              "    <tr style=\"text-align: right;\">\n",
              "      <th></th>\n",
              "      <th>Tipo</th>\n",
              "      <th>Bairro</th>\n",
              "      <th>Quartos</th>\n",
              "      <th>Vagas</th>\n",
              "      <th>Suites</th>\n",
              "      <th>Area</th>\n",
              "      <th>Valor</th>\n",
              "      <th>Condominio</th>\n",
              "      <th>IPTU</th>\n",
              "    </tr>\n",
              "  </thead>\n",
              "  <tbody>\n",
              "    <tr>\n",
              "      <th>0</th>\n",
              "      <td>Quitinete</td>\n",
              "      <td>Copacabana</td>\n",
              "      <td>1</td>\n",
              "      <td>0</td>\n",
              "      <td>0</td>\n",
              "      <td>40</td>\n",
              "      <td>1700.0</td>\n",
              "      <td>500.0</td>\n",
              "      <td>60.0</td>\n",
              "    </tr>\n",
              "    <tr>\n",
              "      <th>1</th>\n",
              "      <td>Casa</td>\n",
              "      <td>Jardim Botânico</td>\n",
              "      <td>2</td>\n",
              "      <td>0</td>\n",
              "      <td>1</td>\n",
              "      <td>100</td>\n",
              "      <td>7000.0</td>\n",
              "      <td>NaN</td>\n",
              "      <td>NaN</td>\n",
              "    </tr>\n",
              "    <tr>\n",
              "      <th>2</th>\n",
              "      <td>Conjunto Comercial/Sala</td>\n",
              "      <td>Barra da Tijuca</td>\n",
              "      <td>0</td>\n",
              "      <td>4</td>\n",
              "      <td>0</td>\n",
              "      <td>150</td>\n",
              "      <td>5200.0</td>\n",
              "      <td>4020.0</td>\n",
              "      <td>1111.0</td>\n",
              "    </tr>\n",
              "    <tr>\n",
              "      <th>3</th>\n",
              "      <td>Apartamento</td>\n",
              "      <td>Centro</td>\n",
              "      <td>1</td>\n",
              "      <td>0</td>\n",
              "      <td>0</td>\n",
              "      <td>15</td>\n",
              "      <td>800.0</td>\n",
              "      <td>390.0</td>\n",
              "      <td>20.0</td>\n",
              "    </tr>\n",
              "    <tr>\n",
              "      <th>4</th>\n",
              "      <td>Apartamento</td>\n",
              "      <td>Higienópolis</td>\n",
              "      <td>1</td>\n",
              "      <td>0</td>\n",
              "      <td>0</td>\n",
              "      <td>48</td>\n",
              "      <td>800.0</td>\n",
              "      <td>230.0</td>\n",
              "      <td>NaN</td>\n",
              "    </tr>\n",
              "  </tbody>\n",
              "</table>\n",
              "</div>\n",
              "      <button class=\"colab-df-convert\" onclick=\"convertToInteractive('df-6e01bf10-0fbd-46b6-a088-96d96e4086a9')\"\n",
              "              title=\"Convert this dataframe to an interactive table.\"\n",
              "              style=\"display:none;\">\n",
              "        \n",
              "  <svg xmlns=\"http://www.w3.org/2000/svg\" height=\"24px\"viewBox=\"0 0 24 24\"\n",
              "       width=\"24px\">\n",
              "    <path d=\"M0 0h24v24H0V0z\" fill=\"none\"/>\n",
              "    <path d=\"M18.56 5.44l.94 2.06.94-2.06 2.06-.94-2.06-.94-.94-2.06-.94 2.06-2.06.94zm-11 1L8.5 8.5l.94-2.06 2.06-.94-2.06-.94L8.5 2.5l-.94 2.06-2.06.94zm10 10l.94 2.06.94-2.06 2.06-.94-2.06-.94-.94-2.06-.94 2.06-2.06.94z\"/><path d=\"M17.41 7.96l-1.37-1.37c-.4-.4-.92-.59-1.43-.59-.52 0-1.04.2-1.43.59L10.3 9.45l-7.72 7.72c-.78.78-.78 2.05 0 2.83L4 21.41c.39.39.9.59 1.41.59.51 0 1.02-.2 1.41-.59l7.78-7.78 2.81-2.81c.8-.78.8-2.07 0-2.86zM5.41 20L4 18.59l7.72-7.72 1.47 1.35L5.41 20z\"/>\n",
              "  </svg>\n",
              "      </button>\n",
              "      \n",
              "  <style>\n",
              "    .colab-df-container {\n",
              "      display:flex;\n",
              "      flex-wrap:wrap;\n",
              "      gap: 12px;\n",
              "    }\n",
              "\n",
              "    .colab-df-convert {\n",
              "      background-color: #E8F0FE;\n",
              "      border: none;\n",
              "      border-radius: 50%;\n",
              "      cursor: pointer;\n",
              "      display: none;\n",
              "      fill: #1967D2;\n",
              "      height: 32px;\n",
              "      padding: 0 0 0 0;\n",
              "      width: 32px;\n",
              "    }\n",
              "\n",
              "    .colab-df-convert:hover {\n",
              "      background-color: #E2EBFA;\n",
              "      box-shadow: 0px 1px 2px rgba(60, 64, 67, 0.3), 0px 1px 3px 1px rgba(60, 64, 67, 0.15);\n",
              "      fill: #174EA6;\n",
              "    }\n",
              "\n",
              "    [theme=dark] .colab-df-convert {\n",
              "      background-color: #3B4455;\n",
              "      fill: #D2E3FC;\n",
              "    }\n",
              "\n",
              "    [theme=dark] .colab-df-convert:hover {\n",
              "      background-color: #434B5C;\n",
              "      box-shadow: 0px 1px 3px 1px rgba(0, 0, 0, 0.15);\n",
              "      filter: drop-shadow(0px 1px 2px rgba(0, 0, 0, 0.3));\n",
              "      fill: #FFFFFF;\n",
              "    }\n",
              "  </style>\n",
              "\n",
              "      <script>\n",
              "        const buttonEl =\n",
              "          document.querySelector('#df-6e01bf10-0fbd-46b6-a088-96d96e4086a9 button.colab-df-convert');\n",
              "        buttonEl.style.display =\n",
              "          google.colab.kernel.accessAllowed ? 'block' : 'none';\n",
              "\n",
              "        async function convertToInteractive(key) {\n",
              "          const element = document.querySelector('#df-6e01bf10-0fbd-46b6-a088-96d96e4086a9');\n",
              "          const dataTable =\n",
              "            await google.colab.kernel.invokeFunction('convertToInteractive',\n",
              "                                                     [key], {});\n",
              "          if (!dataTable) return;\n",
              "\n",
              "          const docLinkHtml = 'Like what you see? Visit the ' +\n",
              "            '<a target=\"_blank\" href=https://colab.research.google.com/notebooks/data_table.ipynb>data table notebook</a>'\n",
              "            + ' to learn more about interactive tables.';\n",
              "          element.innerHTML = '';\n",
              "          dataTable['output_type'] = 'display_data';\n",
              "          await google.colab.output.renderOutput(dataTable, element);\n",
              "          const docLink = document.createElement('div');\n",
              "          docLink.innerHTML = docLinkHtml;\n",
              "          element.appendChild(docLink);\n",
              "        }\n",
              "      </script>\n",
              "    </div>\n",
              "  </div>\n",
              "  "
            ]
          },
          "metadata": {},
          "execution_count": 30
        }
      ]
    },
    {
      "cell_type": "markdown",
      "source": [
        "# Tipos de Imóveis"
      ],
      "metadata": {
        "id": "H3bEFFn0sjfb"
      }
    },
    {
      "cell_type": "code",
      "source": [
        "tipo_de_imovel = pd.DataFrame(dados.Tipo)"
      ],
      "metadata": {
        "id": "3-uQRWR4roo2"
      },
      "execution_count": 31,
      "outputs": []
    },
    {
      "cell_type": "code",
      "source": [
        "# Removendo duplicatas\n",
        "tipo_de_imovel.drop_duplicates(inplace = True)"
      ],
      "metadata": {
        "id": "sbrIlIuhsi09"
      },
      "execution_count": 32,
      "outputs": []
    },
    {
      "cell_type": "code",
      "source": [
        "# Refazendo index\n",
        "tipo_de_imovel.columns.name = 'ID'\n",
        "tipo_de_imovel.index = range(tipo_de_imovel.shape[0])\n",
        "tipo_de_imovel"
      ],
      "metadata": {
        "id": "sqbJbZWHwK1r",
        "colab": {
          "base_uri": "https://localhost:8080/",
          "height": 739
        },
        "outputId": "4f1e0a9b-87fa-49cc-d68c-e8e41d3bf06c"
      },
      "execution_count": 33,
      "outputs": [
        {
          "output_type": "execute_result",
          "data": {
            "text/plain": [
              "ID                         Tipo\n",
              "0                     Quitinete\n",
              "1                          Casa\n",
              "2       Conjunto Comercial/Sala\n",
              "3                   Apartamento\n",
              "4            Casa de Condomínio\n",
              "5                Prédio Inteiro\n",
              "6                          Flat\n",
              "7                    Loja/Salão\n",
              "8       Galpão/Depósito/Armazém\n",
              "9                Casa Comercial\n",
              "10                 Casa de Vila\n",
              "11               Terreno Padrão\n",
              "12                  Box/Garagem\n",
              "13                         Loft\n",
              "14  Loja Shopping/ Ct Comercial\n",
              "15                      Chácara\n",
              "16        Loteamento/Condomínio\n",
              "17                        Sítio\n",
              "18                Pousada/Chalé\n",
              "19                       Studio\n",
              "20                        Hotel\n",
              "21                    Indústria"
            ],
            "text/html": [
              "\n",
              "  <div id=\"df-76a2be5b-d58d-428d-8402-51d0d8870f54\">\n",
              "    <div class=\"colab-df-container\">\n",
              "      <div>\n",
              "<style scoped>\n",
              "    .dataframe tbody tr th:only-of-type {\n",
              "        vertical-align: middle;\n",
              "    }\n",
              "\n",
              "    .dataframe tbody tr th {\n",
              "        vertical-align: top;\n",
              "    }\n",
              "\n",
              "    .dataframe thead th {\n",
              "        text-align: right;\n",
              "    }\n",
              "</style>\n",
              "<table border=\"1\" class=\"dataframe\">\n",
              "  <thead>\n",
              "    <tr style=\"text-align: right;\">\n",
              "      <th>ID</th>\n",
              "      <th>Tipo</th>\n",
              "    </tr>\n",
              "  </thead>\n",
              "  <tbody>\n",
              "    <tr>\n",
              "      <th>0</th>\n",
              "      <td>Quitinete</td>\n",
              "    </tr>\n",
              "    <tr>\n",
              "      <th>1</th>\n",
              "      <td>Casa</td>\n",
              "    </tr>\n",
              "    <tr>\n",
              "      <th>2</th>\n",
              "      <td>Conjunto Comercial/Sala</td>\n",
              "    </tr>\n",
              "    <tr>\n",
              "      <th>3</th>\n",
              "      <td>Apartamento</td>\n",
              "    </tr>\n",
              "    <tr>\n",
              "      <th>4</th>\n",
              "      <td>Casa de Condomínio</td>\n",
              "    </tr>\n",
              "    <tr>\n",
              "      <th>5</th>\n",
              "      <td>Prédio Inteiro</td>\n",
              "    </tr>\n",
              "    <tr>\n",
              "      <th>6</th>\n",
              "      <td>Flat</td>\n",
              "    </tr>\n",
              "    <tr>\n",
              "      <th>7</th>\n",
              "      <td>Loja/Salão</td>\n",
              "    </tr>\n",
              "    <tr>\n",
              "      <th>8</th>\n",
              "      <td>Galpão/Depósito/Armazém</td>\n",
              "    </tr>\n",
              "    <tr>\n",
              "      <th>9</th>\n",
              "      <td>Casa Comercial</td>\n",
              "    </tr>\n",
              "    <tr>\n",
              "      <th>10</th>\n",
              "      <td>Casa de Vila</td>\n",
              "    </tr>\n",
              "    <tr>\n",
              "      <th>11</th>\n",
              "      <td>Terreno Padrão</td>\n",
              "    </tr>\n",
              "    <tr>\n",
              "      <th>12</th>\n",
              "      <td>Box/Garagem</td>\n",
              "    </tr>\n",
              "    <tr>\n",
              "      <th>13</th>\n",
              "      <td>Loft</td>\n",
              "    </tr>\n",
              "    <tr>\n",
              "      <th>14</th>\n",
              "      <td>Loja Shopping/ Ct Comercial</td>\n",
              "    </tr>\n",
              "    <tr>\n",
              "      <th>15</th>\n",
              "      <td>Chácara</td>\n",
              "    </tr>\n",
              "    <tr>\n",
              "      <th>16</th>\n",
              "      <td>Loteamento/Condomínio</td>\n",
              "    </tr>\n",
              "    <tr>\n",
              "      <th>17</th>\n",
              "      <td>Sítio</td>\n",
              "    </tr>\n",
              "    <tr>\n",
              "      <th>18</th>\n",
              "      <td>Pousada/Chalé</td>\n",
              "    </tr>\n",
              "    <tr>\n",
              "      <th>19</th>\n",
              "      <td>Studio</td>\n",
              "    </tr>\n",
              "    <tr>\n",
              "      <th>20</th>\n",
              "      <td>Hotel</td>\n",
              "    </tr>\n",
              "    <tr>\n",
              "      <th>21</th>\n",
              "      <td>Indústria</td>\n",
              "    </tr>\n",
              "  </tbody>\n",
              "</table>\n",
              "</div>\n",
              "      <button class=\"colab-df-convert\" onclick=\"convertToInteractive('df-76a2be5b-d58d-428d-8402-51d0d8870f54')\"\n",
              "              title=\"Convert this dataframe to an interactive table.\"\n",
              "              style=\"display:none;\">\n",
              "        \n",
              "  <svg xmlns=\"http://www.w3.org/2000/svg\" height=\"24px\"viewBox=\"0 0 24 24\"\n",
              "       width=\"24px\">\n",
              "    <path d=\"M0 0h24v24H0V0z\" fill=\"none\"/>\n",
              "    <path d=\"M18.56 5.44l.94 2.06.94-2.06 2.06-.94-2.06-.94-.94-2.06-.94 2.06-2.06.94zm-11 1L8.5 8.5l.94-2.06 2.06-.94-2.06-.94L8.5 2.5l-.94 2.06-2.06.94zm10 10l.94 2.06.94-2.06 2.06-.94-2.06-.94-.94-2.06-.94 2.06-2.06.94z\"/><path d=\"M17.41 7.96l-1.37-1.37c-.4-.4-.92-.59-1.43-.59-.52 0-1.04.2-1.43.59L10.3 9.45l-7.72 7.72c-.78.78-.78 2.05 0 2.83L4 21.41c.39.39.9.59 1.41.59.51 0 1.02-.2 1.41-.59l7.78-7.78 2.81-2.81c.8-.78.8-2.07 0-2.86zM5.41 20L4 18.59l7.72-7.72 1.47 1.35L5.41 20z\"/>\n",
              "  </svg>\n",
              "      </button>\n",
              "      \n",
              "  <style>\n",
              "    .colab-df-container {\n",
              "      display:flex;\n",
              "      flex-wrap:wrap;\n",
              "      gap: 12px;\n",
              "    }\n",
              "\n",
              "    .colab-df-convert {\n",
              "      background-color: #E8F0FE;\n",
              "      border: none;\n",
              "      border-radius: 50%;\n",
              "      cursor: pointer;\n",
              "      display: none;\n",
              "      fill: #1967D2;\n",
              "      height: 32px;\n",
              "      padding: 0 0 0 0;\n",
              "      width: 32px;\n",
              "    }\n",
              "\n",
              "    .colab-df-convert:hover {\n",
              "      background-color: #E2EBFA;\n",
              "      box-shadow: 0px 1px 2px rgba(60, 64, 67, 0.3), 0px 1px 3px 1px rgba(60, 64, 67, 0.15);\n",
              "      fill: #174EA6;\n",
              "    }\n",
              "\n",
              "    [theme=dark] .colab-df-convert {\n",
              "      background-color: #3B4455;\n",
              "      fill: #D2E3FC;\n",
              "    }\n",
              "\n",
              "    [theme=dark] .colab-df-convert:hover {\n",
              "      background-color: #434B5C;\n",
              "      box-shadow: 0px 1px 3px 1px rgba(0, 0, 0, 0.15);\n",
              "      filter: drop-shadow(0px 1px 2px rgba(0, 0, 0, 0.3));\n",
              "      fill: #FFFFFF;\n",
              "    }\n",
              "  </style>\n",
              "\n",
              "      <script>\n",
              "        const buttonEl =\n",
              "          document.querySelector('#df-76a2be5b-d58d-428d-8402-51d0d8870f54 button.colab-df-convert');\n",
              "        buttonEl.style.display =\n",
              "          google.colab.kernel.accessAllowed ? 'block' : 'none';\n",
              "\n",
              "        async function convertToInteractive(key) {\n",
              "          const element = document.querySelector('#df-76a2be5b-d58d-428d-8402-51d0d8870f54');\n",
              "          const dataTable =\n",
              "            await google.colab.kernel.invokeFunction('convertToInteractive',\n",
              "                                                     [key], {});\n",
              "          if (!dataTable) return;\n",
              "\n",
              "          const docLinkHtml = 'Like what you see? Visit the ' +\n",
              "            '<a target=\"_blank\" href=https://colab.research.google.com/notebooks/data_table.ipynb>data table notebook</a>'\n",
              "            + ' to learn more about interactive tables.';\n",
              "          element.innerHTML = '';\n",
              "          dataTable['output_type'] = 'display_data';\n",
              "          await google.colab.output.renderOutput(dataTable, element);\n",
              "          const docLink = document.createElement('div');\n",
              "          docLink.innerHTML = docLinkHtml;\n",
              "          element.appendChild(docLink);\n",
              "        }\n",
              "      </script>\n",
              "    </div>\n",
              "  </div>\n",
              "  "
            ]
          },
          "metadata": {},
          "execution_count": 33
        }
      ]
    },
    {
      "cell_type": "markdown",
      "source": [
        "# Imóveis Residênciais"
      ],
      "metadata": {
        "id": "7CM4VIS6-kfg"
      }
    },
    {
      "cell_type": "code",
      "source": [
        "#ARMAZENAR APENAS OS IMÓVEIS RESIDENSIAVEIS NESSA VARIAVEL:\n",
        "residencial = ['Quitinete', \n",
        "'Casa',\n",
        "'Apartamento',\n",
        "'Casa de Condomínio',\n",
        "'Casa de Vila']"
      ],
      "metadata": {
        "id": "nTcHHLJU7Bo8"
      },
      "execution_count": 34,
      "outputs": []
    },
    {
      "cell_type": "code",
      "source": [
        "#Filtrando os imóveis. Se ele for igual ao parametro passado, gerará um true or false:\n",
        "\n",
        "selecao = dados.Tipo.isin(residencial)"
      ],
      "metadata": {
        "id": "dk2dcfw8-vIE"
      },
      "execution_count": 35,
      "outputs": []
    },
    {
      "cell_type": "code",
      "source": [
        "#Ao criarmos um DF com isin, ele plotará apenas os dados true:\n",
        "#Está sendo usado a variavel selecao como parâmetro para o DF:\n",
        "\n",
        "dados_residencial = dados[selecao]\n",
        "dados_residencial.head(10)"
      ],
      "metadata": {
        "colab": {
          "base_uri": "https://localhost:8080/",
          "height": 363
        },
        "id": "EYbZeN-j-87B",
        "outputId": "251b7a6c-6d46-4f9a-da66-78fbf54252f7"
      },
      "execution_count": 36,
      "outputs": [
        {
          "output_type": "execute_result",
          "data": {
            "text/plain": [
              "                  Tipo           Bairro  Quartos  Vagas  Suites  Area  \\\n",
              "0            Quitinete       Copacabana        1      0       0    40   \n",
              "1                 Casa  Jardim Botânico        2      0       1   100   \n",
              "3          Apartamento           Centro        1      0       0    15   \n",
              "4          Apartamento     Higienópolis        1      0       0    48   \n",
              "5          Apartamento     Vista Alegre        3      1       0    70   \n",
              "6          Apartamento         Cachambi        2      0       0    50   \n",
              "7   Casa de Condomínio  Barra da Tijuca        5      4       5   750   \n",
              "8   Casa de Condomínio            Ramos        2      2       0    65   \n",
              "10         Apartamento           Centro        1      0       0    36   \n",
              "11         Apartamento           Grajaú        2      1       0    70   \n",
              "\n",
              "      Valor  Condominio  IPTU  \n",
              "0    1700.0       500.0  60.0  \n",
              "1    7000.0         NaN   NaN  \n",
              "3     800.0       390.0  20.0  \n",
              "4     800.0       230.0   NaN  \n",
              "5    1200.0         NaN   NaN  \n",
              "6    1300.0       301.0  17.0  \n",
              "7   22000.0         NaN   NaN  \n",
              "8    1000.0         NaN   NaN  \n",
              "10   1200.0         NaN   NaN  \n",
              "11   1500.0       642.0  74.0  "
            ],
            "text/html": [
              "\n",
              "  <div id=\"df-9473b1b6-eedc-4c1b-ac61-b24ee40919d9\">\n",
              "    <div class=\"colab-df-container\">\n",
              "      <div>\n",
              "<style scoped>\n",
              "    .dataframe tbody tr th:only-of-type {\n",
              "        vertical-align: middle;\n",
              "    }\n",
              "\n",
              "    .dataframe tbody tr th {\n",
              "        vertical-align: top;\n",
              "    }\n",
              "\n",
              "    .dataframe thead th {\n",
              "        text-align: right;\n",
              "    }\n",
              "</style>\n",
              "<table border=\"1\" class=\"dataframe\">\n",
              "  <thead>\n",
              "    <tr style=\"text-align: right;\">\n",
              "      <th></th>\n",
              "      <th>Tipo</th>\n",
              "      <th>Bairro</th>\n",
              "      <th>Quartos</th>\n",
              "      <th>Vagas</th>\n",
              "      <th>Suites</th>\n",
              "      <th>Area</th>\n",
              "      <th>Valor</th>\n",
              "      <th>Condominio</th>\n",
              "      <th>IPTU</th>\n",
              "    </tr>\n",
              "  </thead>\n",
              "  <tbody>\n",
              "    <tr>\n",
              "      <th>0</th>\n",
              "      <td>Quitinete</td>\n",
              "      <td>Copacabana</td>\n",
              "      <td>1</td>\n",
              "      <td>0</td>\n",
              "      <td>0</td>\n",
              "      <td>40</td>\n",
              "      <td>1700.0</td>\n",
              "      <td>500.0</td>\n",
              "      <td>60.0</td>\n",
              "    </tr>\n",
              "    <tr>\n",
              "      <th>1</th>\n",
              "      <td>Casa</td>\n",
              "      <td>Jardim Botânico</td>\n",
              "      <td>2</td>\n",
              "      <td>0</td>\n",
              "      <td>1</td>\n",
              "      <td>100</td>\n",
              "      <td>7000.0</td>\n",
              "      <td>NaN</td>\n",
              "      <td>NaN</td>\n",
              "    </tr>\n",
              "    <tr>\n",
              "      <th>3</th>\n",
              "      <td>Apartamento</td>\n",
              "      <td>Centro</td>\n",
              "      <td>1</td>\n",
              "      <td>0</td>\n",
              "      <td>0</td>\n",
              "      <td>15</td>\n",
              "      <td>800.0</td>\n",
              "      <td>390.0</td>\n",
              "      <td>20.0</td>\n",
              "    </tr>\n",
              "    <tr>\n",
              "      <th>4</th>\n",
              "      <td>Apartamento</td>\n",
              "      <td>Higienópolis</td>\n",
              "      <td>1</td>\n",
              "      <td>0</td>\n",
              "      <td>0</td>\n",
              "      <td>48</td>\n",
              "      <td>800.0</td>\n",
              "      <td>230.0</td>\n",
              "      <td>NaN</td>\n",
              "    </tr>\n",
              "    <tr>\n",
              "      <th>5</th>\n",
              "      <td>Apartamento</td>\n",
              "      <td>Vista Alegre</td>\n",
              "      <td>3</td>\n",
              "      <td>1</td>\n",
              "      <td>0</td>\n",
              "      <td>70</td>\n",
              "      <td>1200.0</td>\n",
              "      <td>NaN</td>\n",
              "      <td>NaN</td>\n",
              "    </tr>\n",
              "    <tr>\n",
              "      <th>6</th>\n",
              "      <td>Apartamento</td>\n",
              "      <td>Cachambi</td>\n",
              "      <td>2</td>\n",
              "      <td>0</td>\n",
              "      <td>0</td>\n",
              "      <td>50</td>\n",
              "      <td>1300.0</td>\n",
              "      <td>301.0</td>\n",
              "      <td>17.0</td>\n",
              "    </tr>\n",
              "    <tr>\n",
              "      <th>7</th>\n",
              "      <td>Casa de Condomínio</td>\n",
              "      <td>Barra da Tijuca</td>\n",
              "      <td>5</td>\n",
              "      <td>4</td>\n",
              "      <td>5</td>\n",
              "      <td>750</td>\n",
              "      <td>22000.0</td>\n",
              "      <td>NaN</td>\n",
              "      <td>NaN</td>\n",
              "    </tr>\n",
              "    <tr>\n",
              "      <th>8</th>\n",
              "      <td>Casa de Condomínio</td>\n",
              "      <td>Ramos</td>\n",
              "      <td>2</td>\n",
              "      <td>2</td>\n",
              "      <td>0</td>\n",
              "      <td>65</td>\n",
              "      <td>1000.0</td>\n",
              "      <td>NaN</td>\n",
              "      <td>NaN</td>\n",
              "    </tr>\n",
              "    <tr>\n",
              "      <th>10</th>\n",
              "      <td>Apartamento</td>\n",
              "      <td>Centro</td>\n",
              "      <td>1</td>\n",
              "      <td>0</td>\n",
              "      <td>0</td>\n",
              "      <td>36</td>\n",
              "      <td>1200.0</td>\n",
              "      <td>NaN</td>\n",
              "      <td>NaN</td>\n",
              "    </tr>\n",
              "    <tr>\n",
              "      <th>11</th>\n",
              "      <td>Apartamento</td>\n",
              "      <td>Grajaú</td>\n",
              "      <td>2</td>\n",
              "      <td>1</td>\n",
              "      <td>0</td>\n",
              "      <td>70</td>\n",
              "      <td>1500.0</td>\n",
              "      <td>642.0</td>\n",
              "      <td>74.0</td>\n",
              "    </tr>\n",
              "  </tbody>\n",
              "</table>\n",
              "</div>\n",
              "      <button class=\"colab-df-convert\" onclick=\"convertToInteractive('df-9473b1b6-eedc-4c1b-ac61-b24ee40919d9')\"\n",
              "              title=\"Convert this dataframe to an interactive table.\"\n",
              "              style=\"display:none;\">\n",
              "        \n",
              "  <svg xmlns=\"http://www.w3.org/2000/svg\" height=\"24px\"viewBox=\"0 0 24 24\"\n",
              "       width=\"24px\">\n",
              "    <path d=\"M0 0h24v24H0V0z\" fill=\"none\"/>\n",
              "    <path d=\"M18.56 5.44l.94 2.06.94-2.06 2.06-.94-2.06-.94-.94-2.06-.94 2.06-2.06.94zm-11 1L8.5 8.5l.94-2.06 2.06-.94-2.06-.94L8.5 2.5l-.94 2.06-2.06.94zm10 10l.94 2.06.94-2.06 2.06-.94-2.06-.94-.94-2.06-.94 2.06-2.06.94z\"/><path d=\"M17.41 7.96l-1.37-1.37c-.4-.4-.92-.59-1.43-.59-.52 0-1.04.2-1.43.59L10.3 9.45l-7.72 7.72c-.78.78-.78 2.05 0 2.83L4 21.41c.39.39.9.59 1.41.59.51 0 1.02-.2 1.41-.59l7.78-7.78 2.81-2.81c.8-.78.8-2.07 0-2.86zM5.41 20L4 18.59l7.72-7.72 1.47 1.35L5.41 20z\"/>\n",
              "  </svg>\n",
              "      </button>\n",
              "      \n",
              "  <style>\n",
              "    .colab-df-container {\n",
              "      display:flex;\n",
              "      flex-wrap:wrap;\n",
              "      gap: 12px;\n",
              "    }\n",
              "\n",
              "    .colab-df-convert {\n",
              "      background-color: #E8F0FE;\n",
              "      border: none;\n",
              "      border-radius: 50%;\n",
              "      cursor: pointer;\n",
              "      display: none;\n",
              "      fill: #1967D2;\n",
              "      height: 32px;\n",
              "      padding: 0 0 0 0;\n",
              "      width: 32px;\n",
              "    }\n",
              "\n",
              "    .colab-df-convert:hover {\n",
              "      background-color: #E2EBFA;\n",
              "      box-shadow: 0px 1px 2px rgba(60, 64, 67, 0.3), 0px 1px 3px 1px rgba(60, 64, 67, 0.15);\n",
              "      fill: #174EA6;\n",
              "    }\n",
              "\n",
              "    [theme=dark] .colab-df-convert {\n",
              "      background-color: #3B4455;\n",
              "      fill: #D2E3FC;\n",
              "    }\n",
              "\n",
              "    [theme=dark] .colab-df-convert:hover {\n",
              "      background-color: #434B5C;\n",
              "      box-shadow: 0px 1px 3px 1px rgba(0, 0, 0, 0.15);\n",
              "      filter: drop-shadow(0px 1px 2px rgba(0, 0, 0, 0.3));\n",
              "      fill: #FFFFFF;\n",
              "    }\n",
              "  </style>\n",
              "\n",
              "      <script>\n",
              "        const buttonEl =\n",
              "          document.querySelector('#df-9473b1b6-eedc-4c1b-ac61-b24ee40919d9 button.colab-df-convert');\n",
              "        buttonEl.style.display =\n",
              "          google.colab.kernel.accessAllowed ? 'block' : 'none';\n",
              "\n",
              "        async function convertToInteractive(key) {\n",
              "          const element = document.querySelector('#df-9473b1b6-eedc-4c1b-ac61-b24ee40919d9');\n",
              "          const dataTable =\n",
              "            await google.colab.kernel.invokeFunction('convertToInteractive',\n",
              "                                                     [key], {});\n",
              "          if (!dataTable) return;\n",
              "\n",
              "          const docLinkHtml = 'Like what you see? Visit the ' +\n",
              "            '<a target=\"_blank\" href=https://colab.research.google.com/notebooks/data_table.ipynb>data table notebook</a>'\n",
              "            + ' to learn more about interactive tables.';\n",
              "          element.innerHTML = '';\n",
              "          dataTable['output_type'] = 'display_data';\n",
              "          await google.colab.output.renderOutput(dataTable, element);\n",
              "          const docLink = document.createElement('div');\n",
              "          docLink.innerHTML = docLinkHtml;\n",
              "          element.appendChild(docLink);\n",
              "        }\n",
              "      </script>\n",
              "    </div>\n",
              "  </div>\n",
              "  "
            ]
          },
          "metadata": {},
          "execution_count": 36
        }
      ]
    },
    {
      "cell_type": "code",
      "source": [
        "#Redefinido o index:\n",
        "\n",
        "dados_residencial.index = range(dados_residencial.shape[0])\n",
        "dados_residencial.head(10)"
      ],
      "metadata": {
        "colab": {
          "base_uri": "https://localhost:8080/",
          "height": 363
        },
        "id": "8Z4AE4g2_RuP",
        "outputId": "28708581-26cc-4db4-f48f-b4b1b1ebfb47"
      },
      "execution_count": 37,
      "outputs": [
        {
          "output_type": "execute_result",
          "data": {
            "text/plain": [
              "                 Tipo           Bairro  Quartos  Vagas  Suites  Area    Valor  \\\n",
              "0           Quitinete       Copacabana        1      0       0    40   1700.0   \n",
              "1                Casa  Jardim Botânico        2      0       1   100   7000.0   \n",
              "2         Apartamento           Centro        1      0       0    15    800.0   \n",
              "3         Apartamento     Higienópolis        1      0       0    48    800.0   \n",
              "4         Apartamento     Vista Alegre        3      1       0    70   1200.0   \n",
              "5         Apartamento         Cachambi        2      0       0    50   1300.0   \n",
              "6  Casa de Condomínio  Barra da Tijuca        5      4       5   750  22000.0   \n",
              "7  Casa de Condomínio            Ramos        2      2       0    65   1000.0   \n",
              "8         Apartamento           Centro        1      0       0    36   1200.0   \n",
              "9         Apartamento           Grajaú        2      1       0    70   1500.0   \n",
              "\n",
              "   Condominio  IPTU  \n",
              "0       500.0  60.0  \n",
              "1         NaN   NaN  \n",
              "2       390.0  20.0  \n",
              "3       230.0   NaN  \n",
              "4         NaN   NaN  \n",
              "5       301.0  17.0  \n",
              "6         NaN   NaN  \n",
              "7         NaN   NaN  \n",
              "8         NaN   NaN  \n",
              "9       642.0  74.0  "
            ],
            "text/html": [
              "\n",
              "  <div id=\"df-ee541e89-3f3a-44b7-86c9-3f0f36931107\">\n",
              "    <div class=\"colab-df-container\">\n",
              "      <div>\n",
              "<style scoped>\n",
              "    .dataframe tbody tr th:only-of-type {\n",
              "        vertical-align: middle;\n",
              "    }\n",
              "\n",
              "    .dataframe tbody tr th {\n",
              "        vertical-align: top;\n",
              "    }\n",
              "\n",
              "    .dataframe thead th {\n",
              "        text-align: right;\n",
              "    }\n",
              "</style>\n",
              "<table border=\"1\" class=\"dataframe\">\n",
              "  <thead>\n",
              "    <tr style=\"text-align: right;\">\n",
              "      <th></th>\n",
              "      <th>Tipo</th>\n",
              "      <th>Bairro</th>\n",
              "      <th>Quartos</th>\n",
              "      <th>Vagas</th>\n",
              "      <th>Suites</th>\n",
              "      <th>Area</th>\n",
              "      <th>Valor</th>\n",
              "      <th>Condominio</th>\n",
              "      <th>IPTU</th>\n",
              "    </tr>\n",
              "  </thead>\n",
              "  <tbody>\n",
              "    <tr>\n",
              "      <th>0</th>\n",
              "      <td>Quitinete</td>\n",
              "      <td>Copacabana</td>\n",
              "      <td>1</td>\n",
              "      <td>0</td>\n",
              "      <td>0</td>\n",
              "      <td>40</td>\n",
              "      <td>1700.0</td>\n",
              "      <td>500.0</td>\n",
              "      <td>60.0</td>\n",
              "    </tr>\n",
              "    <tr>\n",
              "      <th>1</th>\n",
              "      <td>Casa</td>\n",
              "      <td>Jardim Botânico</td>\n",
              "      <td>2</td>\n",
              "      <td>0</td>\n",
              "      <td>1</td>\n",
              "      <td>100</td>\n",
              "      <td>7000.0</td>\n",
              "      <td>NaN</td>\n",
              "      <td>NaN</td>\n",
              "    </tr>\n",
              "    <tr>\n",
              "      <th>2</th>\n",
              "      <td>Apartamento</td>\n",
              "      <td>Centro</td>\n",
              "      <td>1</td>\n",
              "      <td>0</td>\n",
              "      <td>0</td>\n",
              "      <td>15</td>\n",
              "      <td>800.0</td>\n",
              "      <td>390.0</td>\n",
              "      <td>20.0</td>\n",
              "    </tr>\n",
              "    <tr>\n",
              "      <th>3</th>\n",
              "      <td>Apartamento</td>\n",
              "      <td>Higienópolis</td>\n",
              "      <td>1</td>\n",
              "      <td>0</td>\n",
              "      <td>0</td>\n",
              "      <td>48</td>\n",
              "      <td>800.0</td>\n",
              "      <td>230.0</td>\n",
              "      <td>NaN</td>\n",
              "    </tr>\n",
              "    <tr>\n",
              "      <th>4</th>\n",
              "      <td>Apartamento</td>\n",
              "      <td>Vista Alegre</td>\n",
              "      <td>3</td>\n",
              "      <td>1</td>\n",
              "      <td>0</td>\n",
              "      <td>70</td>\n",
              "      <td>1200.0</td>\n",
              "      <td>NaN</td>\n",
              "      <td>NaN</td>\n",
              "    </tr>\n",
              "    <tr>\n",
              "      <th>5</th>\n",
              "      <td>Apartamento</td>\n",
              "      <td>Cachambi</td>\n",
              "      <td>2</td>\n",
              "      <td>0</td>\n",
              "      <td>0</td>\n",
              "      <td>50</td>\n",
              "      <td>1300.0</td>\n",
              "      <td>301.0</td>\n",
              "      <td>17.0</td>\n",
              "    </tr>\n",
              "    <tr>\n",
              "      <th>6</th>\n",
              "      <td>Casa de Condomínio</td>\n",
              "      <td>Barra da Tijuca</td>\n",
              "      <td>5</td>\n",
              "      <td>4</td>\n",
              "      <td>5</td>\n",
              "      <td>750</td>\n",
              "      <td>22000.0</td>\n",
              "      <td>NaN</td>\n",
              "      <td>NaN</td>\n",
              "    </tr>\n",
              "    <tr>\n",
              "      <th>7</th>\n",
              "      <td>Casa de Condomínio</td>\n",
              "      <td>Ramos</td>\n",
              "      <td>2</td>\n",
              "      <td>2</td>\n",
              "      <td>0</td>\n",
              "      <td>65</td>\n",
              "      <td>1000.0</td>\n",
              "      <td>NaN</td>\n",
              "      <td>NaN</td>\n",
              "    </tr>\n",
              "    <tr>\n",
              "      <th>8</th>\n",
              "      <td>Apartamento</td>\n",
              "      <td>Centro</td>\n",
              "      <td>1</td>\n",
              "      <td>0</td>\n",
              "      <td>0</td>\n",
              "      <td>36</td>\n",
              "      <td>1200.0</td>\n",
              "      <td>NaN</td>\n",
              "      <td>NaN</td>\n",
              "    </tr>\n",
              "    <tr>\n",
              "      <th>9</th>\n",
              "      <td>Apartamento</td>\n",
              "      <td>Grajaú</td>\n",
              "      <td>2</td>\n",
              "      <td>1</td>\n",
              "      <td>0</td>\n",
              "      <td>70</td>\n",
              "      <td>1500.0</td>\n",
              "      <td>642.0</td>\n",
              "      <td>74.0</td>\n",
              "    </tr>\n",
              "  </tbody>\n",
              "</table>\n",
              "</div>\n",
              "      <button class=\"colab-df-convert\" onclick=\"convertToInteractive('df-ee541e89-3f3a-44b7-86c9-3f0f36931107')\"\n",
              "              title=\"Convert this dataframe to an interactive table.\"\n",
              "              style=\"display:none;\">\n",
              "        \n",
              "  <svg xmlns=\"http://www.w3.org/2000/svg\" height=\"24px\"viewBox=\"0 0 24 24\"\n",
              "       width=\"24px\">\n",
              "    <path d=\"M0 0h24v24H0V0z\" fill=\"none\"/>\n",
              "    <path d=\"M18.56 5.44l.94 2.06.94-2.06 2.06-.94-2.06-.94-.94-2.06-.94 2.06-2.06.94zm-11 1L8.5 8.5l.94-2.06 2.06-.94-2.06-.94L8.5 2.5l-.94 2.06-2.06.94zm10 10l.94 2.06.94-2.06 2.06-.94-2.06-.94-.94-2.06-.94 2.06-2.06.94z\"/><path d=\"M17.41 7.96l-1.37-1.37c-.4-.4-.92-.59-1.43-.59-.52 0-1.04.2-1.43.59L10.3 9.45l-7.72 7.72c-.78.78-.78 2.05 0 2.83L4 21.41c.39.39.9.59 1.41.59.51 0 1.02-.2 1.41-.59l7.78-7.78 2.81-2.81c.8-.78.8-2.07 0-2.86zM5.41 20L4 18.59l7.72-7.72 1.47 1.35L5.41 20z\"/>\n",
              "  </svg>\n",
              "      </button>\n",
              "      \n",
              "  <style>\n",
              "    .colab-df-container {\n",
              "      display:flex;\n",
              "      flex-wrap:wrap;\n",
              "      gap: 12px;\n",
              "    }\n",
              "\n",
              "    .colab-df-convert {\n",
              "      background-color: #E8F0FE;\n",
              "      border: none;\n",
              "      border-radius: 50%;\n",
              "      cursor: pointer;\n",
              "      display: none;\n",
              "      fill: #1967D2;\n",
              "      height: 32px;\n",
              "      padding: 0 0 0 0;\n",
              "      width: 32px;\n",
              "    }\n",
              "\n",
              "    .colab-df-convert:hover {\n",
              "      background-color: #E2EBFA;\n",
              "      box-shadow: 0px 1px 2px rgba(60, 64, 67, 0.3), 0px 1px 3px 1px rgba(60, 64, 67, 0.15);\n",
              "      fill: #174EA6;\n",
              "    }\n",
              "\n",
              "    [theme=dark] .colab-df-convert {\n",
              "      background-color: #3B4455;\n",
              "      fill: #D2E3FC;\n",
              "    }\n",
              "\n",
              "    [theme=dark] .colab-df-convert:hover {\n",
              "      background-color: #434B5C;\n",
              "      box-shadow: 0px 1px 3px 1px rgba(0, 0, 0, 0.15);\n",
              "      filter: drop-shadow(0px 1px 2px rgba(0, 0, 0, 0.3));\n",
              "      fill: #FFFFFF;\n",
              "    }\n",
              "  </style>\n",
              "\n",
              "      <script>\n",
              "        const buttonEl =\n",
              "          document.querySelector('#df-ee541e89-3f3a-44b7-86c9-3f0f36931107 button.colab-df-convert');\n",
              "        buttonEl.style.display =\n",
              "          google.colab.kernel.accessAllowed ? 'block' : 'none';\n",
              "\n",
              "        async function convertToInteractive(key) {\n",
              "          const element = document.querySelector('#df-ee541e89-3f3a-44b7-86c9-3f0f36931107');\n",
              "          const dataTable =\n",
              "            await google.colab.kernel.invokeFunction('convertToInteractive',\n",
              "                                                     [key], {});\n",
              "          if (!dataTable) return;\n",
              "\n",
              "          const docLinkHtml = 'Like what you see? Visit the ' +\n",
              "            '<a target=\"_blank\" href=https://colab.research.google.com/notebooks/data_table.ipynb>data table notebook</a>'\n",
              "            + ' to learn more about interactive tables.';\n",
              "          element.innerHTML = '';\n",
              "          dataTable['output_type'] = 'display_data';\n",
              "          await google.colab.output.renderOutput(dataTable, element);\n",
              "          const docLink = document.createElement('div');\n",
              "          docLink.innerHTML = docLinkHtml;\n",
              "          element.appendChild(docLink);\n",
              "        }\n",
              "      </script>\n",
              "    </div>\n",
              "  </div>\n",
              "  "
            ]
          },
          "metadata": {},
          "execution_count": 37
        }
      ]
    },
    {
      "cell_type": "markdown",
      "source": [
        "# Exportando a Base de Dados"
      ],
      "metadata": {
        "id": "7AeACjQAB6Mc"
      }
    },
    {
      "cell_type": "code",
      "source": [
        "dados_residencial.to_csv('aluguel_residencial.csv', sep =';')"
      ],
      "metadata": {
        "id": "wXS0pjCxBfbu"
      },
      "execution_count": 38,
      "outputs": []
    },
    {
      "cell_type": "markdown",
      "source": [
        "#Seleções e Frequências"
      ],
      "metadata": {
        "id": "dlBM47dfRkRr"
      }
    },
    {
      "cell_type": "markdown",
      "source": [
        "####Apartamentos\n",
        "\n"
      ],
      "metadata": {
        "id": "i_DovTSiRMLN"
      }
    },
    {
      "cell_type": "code",
      "source": [
        "# Selecione somente os imóveis classificados com tipo 'Apartamento'\n",
        "selecao = (dados_residencial.Tipo == 'Apartamento')\n",
        "n1 = dados_residencial[selecao].shape[0]"
      ],
      "metadata": {
        "id": "9cQmcnwHCNWB"
      },
      "execution_count": 39,
      "outputs": []
    },
    {
      "cell_type": "markdown",
      "source": [
        "####Casas\n"
      ],
      "metadata": {
        "id": "DPSp4NYnRSNx"
      }
    },
    {
      "cell_type": "code",
      "source": [
        "# Selecione os imóveis classificados com tipos 'Casa', 'Casa de Condomínio' e 'Casa de Vila'.\n",
        "selecao = (dados_residencial.Tipo == 'Casa')| (dados_residencial.Tipo =='Casa de Condomínio')| (dados_residencial.Tipo == 'Casa de Vila')\n",
        "n2 = dados_residencial[selecao].shape[0]"
      ],
      "metadata": {
        "id": "U13RPcEyPGOS"
      },
      "execution_count": 40,
      "outputs": []
    },
    {
      "cell_type": "markdown",
      "source": [
        "####Casas e apartamentos com área entre 60 e 100 metros quadrados, incluindo os limites"
      ],
      "metadata": {
        "id": "izj5dwsCRE1z"
      }
    },
    {
      "cell_type": "code",
      "source": [
        "selecao = (dados_residencial.Area>=60) & (dados_residencial.Area<=100)\n",
        "n3 = dados_residencial[selecao].shape[0]"
      ],
      "metadata": {
        "id": "xN1rpH7-PFQS"
      },
      "execution_count": 41,
      "outputs": []
    },
    {
      "cell_type": "markdown",
      "source": [
        "#### Selecione os imóveis que tenham pelo menos 4 quartos e aluguel menor que R$ 2.000,00."
      ],
      "metadata": {
        "id": "l_IRuY9AT8qP"
      }
    },
    {
      "cell_type": "code",
      "source": [
        "selecao = (dados_residencial.Quartos >= 4) & (dados_residencial.Valor < 2000)\n",
        "n4 = dados_residencial[selecao].shape[0]"
      ],
      "metadata": {
        "id": "gHMeKM_4RIJT"
      },
      "execution_count": 42,
      "outputs": []
    },
    {
      "cell_type": "code",
      "source": [
        "print(\"N° de  imóveis classificados com tipo 'Apartamento'=> {}\".format(n1))\n",
        "print(\"N° de  imóveis classificados com tipos 'Casa', 'Casa de Condomínio' e 'Casa de Vila' => {}\".format(n2))\n",
        "print(\"N° de casas e apartamentos com área entre 60 e 100 metros quadrados, incluindo os limites => {}\".format(n3))\n",
        "print(\"N° de casas e apartamentos que tenham pelo menos 4 quartos e aluguel menor que R$ 2.000,00 => {}\".format(n4))"
      ],
      "metadata": {
        "colab": {
          "base_uri": "https://localhost:8080/"
        },
        "id": "j4MkWaMhUPDk",
        "outputId": "52de66a3-59df-46b0-9e10-2e523ef7ec25"
      },
      "execution_count": 43,
      "outputs": [
        {
          "output_type": "stream",
          "name": "stdout",
          "text": [
            "N° de  imóveis classificados com tipo 'Apartamento'=> 19532\n",
            "N° de  imóveis classificados com tipos 'Casa', 'Casa de Condomínio' e 'Casa de Vila' => 2212\n",
            "N° de casas e apartamentos com área entre 60 e 100 metros quadrados, incluindo os limites => 8719\n",
            "N° de casas e apartamentos que tenham pelo menos 4 quartos e aluguel menor que R$ 2.000,00 => 41\n"
          ]
        }
      ]
    },
    {
      "cell_type": "markdown",
      "source": [
        "# Tratando Dados Faltantes"
      ],
      "metadata": {
        "id": "JX2OlEp1ahCG"
      }
    },
    {
      "cell_type": "code",
      "source": [
        "# Total de Valores nulos presentes em cada coluna\n",
        "dados_residencial.isnull().sum()"
      ],
      "metadata": {
        "colab": {
          "base_uri": "https://localhost:8080/"
        },
        "id": "_ZewSbTUiux-",
        "outputId": "b1bcfef2-3815-42ae-d765-cb683ca35df6"
      },
      "execution_count": 44,
      "outputs": [
        {
          "output_type": "execute_result",
          "data": {
            "text/plain": [
              "Tipo             0\n",
              "Bairro           0\n",
              "Quartos          0\n",
              "Vagas            0\n",
              "Suites           0\n",
              "Area             0\n",
              "Valor            9\n",
              "Condominio    1815\n",
              "IPTU          6785\n",
              "dtype: int64"
            ]
          },
          "metadata": {},
          "execution_count": 44
        }
      ]
    },
    {
      "cell_type": "markdown",
      "source": [
        "## 1° Método - Substituir todos os valores nulos por 0"
      ],
      "metadata": {
        "id": "k8ke7tfFcItN"
      }
    },
    {
      "cell_type": "code",
      "source": [
        "# Criar um dicionário que indicará os valores que será colocado dnos espços nulos das variáveis\n",
        "dados_residencial = dados_residencial.fillna({'Valor':0,'Condominio': 0, 'IPTU': 0})"
      ],
      "metadata": {
        "id": "jRyEY17RTLDr"
      },
      "execution_count": 45,
      "outputs": []
    },
    {
      "cell_type": "code",
      "source": [
        "dados_residencial.shape"
      ],
      "metadata": {
        "colab": {
          "base_uri": "https://localhost:8080/"
        },
        "id": "0UGLUVRMaYwk",
        "outputId": "e4b0b103-d2f3-45f5-dd6d-9ab634235248"
      },
      "execution_count": 46,
      "outputs": [
        {
          "output_type": "execute_result",
          "data": {
            "text/plain": [
              "(22580, 9)"
            ]
          },
          "metadata": {},
          "execution_count": 46
        }
      ]
    },
    {
      "cell_type": "code",
      "source": [
        "dados_residencial.head(10)"
      ],
      "metadata": {
        "colab": {
          "base_uri": "https://localhost:8080/",
          "height": 363
        },
        "id": "8_CebcvshKcm",
        "outputId": "82cb06d0-5449-49d5-dbc4-b444697a42b1"
      },
      "execution_count": 47,
      "outputs": [
        {
          "output_type": "execute_result",
          "data": {
            "text/plain": [
              "                 Tipo           Bairro  Quartos  Vagas  Suites  Area    Valor  \\\n",
              "0           Quitinete       Copacabana        1      0       0    40   1700.0   \n",
              "1                Casa  Jardim Botânico        2      0       1   100   7000.0   \n",
              "2         Apartamento           Centro        1      0       0    15    800.0   \n",
              "3         Apartamento     Higienópolis        1      0       0    48    800.0   \n",
              "4         Apartamento     Vista Alegre        3      1       0    70   1200.0   \n",
              "5         Apartamento         Cachambi        2      0       0    50   1300.0   \n",
              "6  Casa de Condomínio  Barra da Tijuca        5      4       5   750  22000.0   \n",
              "7  Casa de Condomínio            Ramos        2      2       0    65   1000.0   \n",
              "8         Apartamento           Centro        1      0       0    36   1200.0   \n",
              "9         Apartamento           Grajaú        2      1       0    70   1500.0   \n",
              "\n",
              "   Condominio  IPTU  \n",
              "0       500.0  60.0  \n",
              "1         0.0   0.0  \n",
              "2       390.0  20.0  \n",
              "3       230.0   0.0  \n",
              "4         0.0   0.0  \n",
              "5       301.0  17.0  \n",
              "6         0.0   0.0  \n",
              "7         0.0   0.0  \n",
              "8         0.0   0.0  \n",
              "9       642.0  74.0  "
            ],
            "text/html": [
              "\n",
              "  <div id=\"df-85c0a466-da61-4417-8c65-c5c1d989f221\">\n",
              "    <div class=\"colab-df-container\">\n",
              "      <div>\n",
              "<style scoped>\n",
              "    .dataframe tbody tr th:only-of-type {\n",
              "        vertical-align: middle;\n",
              "    }\n",
              "\n",
              "    .dataframe tbody tr th {\n",
              "        vertical-align: top;\n",
              "    }\n",
              "\n",
              "    .dataframe thead th {\n",
              "        text-align: right;\n",
              "    }\n",
              "</style>\n",
              "<table border=\"1\" class=\"dataframe\">\n",
              "  <thead>\n",
              "    <tr style=\"text-align: right;\">\n",
              "      <th></th>\n",
              "      <th>Tipo</th>\n",
              "      <th>Bairro</th>\n",
              "      <th>Quartos</th>\n",
              "      <th>Vagas</th>\n",
              "      <th>Suites</th>\n",
              "      <th>Area</th>\n",
              "      <th>Valor</th>\n",
              "      <th>Condominio</th>\n",
              "      <th>IPTU</th>\n",
              "    </tr>\n",
              "  </thead>\n",
              "  <tbody>\n",
              "    <tr>\n",
              "      <th>0</th>\n",
              "      <td>Quitinete</td>\n",
              "      <td>Copacabana</td>\n",
              "      <td>1</td>\n",
              "      <td>0</td>\n",
              "      <td>0</td>\n",
              "      <td>40</td>\n",
              "      <td>1700.0</td>\n",
              "      <td>500.0</td>\n",
              "      <td>60.0</td>\n",
              "    </tr>\n",
              "    <tr>\n",
              "      <th>1</th>\n",
              "      <td>Casa</td>\n",
              "      <td>Jardim Botânico</td>\n",
              "      <td>2</td>\n",
              "      <td>0</td>\n",
              "      <td>1</td>\n",
              "      <td>100</td>\n",
              "      <td>7000.0</td>\n",
              "      <td>0.0</td>\n",
              "      <td>0.0</td>\n",
              "    </tr>\n",
              "    <tr>\n",
              "      <th>2</th>\n",
              "      <td>Apartamento</td>\n",
              "      <td>Centro</td>\n",
              "      <td>1</td>\n",
              "      <td>0</td>\n",
              "      <td>0</td>\n",
              "      <td>15</td>\n",
              "      <td>800.0</td>\n",
              "      <td>390.0</td>\n",
              "      <td>20.0</td>\n",
              "    </tr>\n",
              "    <tr>\n",
              "      <th>3</th>\n",
              "      <td>Apartamento</td>\n",
              "      <td>Higienópolis</td>\n",
              "      <td>1</td>\n",
              "      <td>0</td>\n",
              "      <td>0</td>\n",
              "      <td>48</td>\n",
              "      <td>800.0</td>\n",
              "      <td>230.0</td>\n",
              "      <td>0.0</td>\n",
              "    </tr>\n",
              "    <tr>\n",
              "      <th>4</th>\n",
              "      <td>Apartamento</td>\n",
              "      <td>Vista Alegre</td>\n",
              "      <td>3</td>\n",
              "      <td>1</td>\n",
              "      <td>0</td>\n",
              "      <td>70</td>\n",
              "      <td>1200.0</td>\n",
              "      <td>0.0</td>\n",
              "      <td>0.0</td>\n",
              "    </tr>\n",
              "    <tr>\n",
              "      <th>5</th>\n",
              "      <td>Apartamento</td>\n",
              "      <td>Cachambi</td>\n",
              "      <td>2</td>\n",
              "      <td>0</td>\n",
              "      <td>0</td>\n",
              "      <td>50</td>\n",
              "      <td>1300.0</td>\n",
              "      <td>301.0</td>\n",
              "      <td>17.0</td>\n",
              "    </tr>\n",
              "    <tr>\n",
              "      <th>6</th>\n",
              "      <td>Casa de Condomínio</td>\n",
              "      <td>Barra da Tijuca</td>\n",
              "      <td>5</td>\n",
              "      <td>4</td>\n",
              "      <td>5</td>\n",
              "      <td>750</td>\n",
              "      <td>22000.0</td>\n",
              "      <td>0.0</td>\n",
              "      <td>0.0</td>\n",
              "    </tr>\n",
              "    <tr>\n",
              "      <th>7</th>\n",
              "      <td>Casa de Condomínio</td>\n",
              "      <td>Ramos</td>\n",
              "      <td>2</td>\n",
              "      <td>2</td>\n",
              "      <td>0</td>\n",
              "      <td>65</td>\n",
              "      <td>1000.0</td>\n",
              "      <td>0.0</td>\n",
              "      <td>0.0</td>\n",
              "    </tr>\n",
              "    <tr>\n",
              "      <th>8</th>\n",
              "      <td>Apartamento</td>\n",
              "      <td>Centro</td>\n",
              "      <td>1</td>\n",
              "      <td>0</td>\n",
              "      <td>0</td>\n",
              "      <td>36</td>\n",
              "      <td>1200.0</td>\n",
              "      <td>0.0</td>\n",
              "      <td>0.0</td>\n",
              "    </tr>\n",
              "    <tr>\n",
              "      <th>9</th>\n",
              "      <td>Apartamento</td>\n",
              "      <td>Grajaú</td>\n",
              "      <td>2</td>\n",
              "      <td>1</td>\n",
              "      <td>0</td>\n",
              "      <td>70</td>\n",
              "      <td>1500.0</td>\n",
              "      <td>642.0</td>\n",
              "      <td>74.0</td>\n",
              "    </tr>\n",
              "  </tbody>\n",
              "</table>\n",
              "</div>\n",
              "      <button class=\"colab-df-convert\" onclick=\"convertToInteractive('df-85c0a466-da61-4417-8c65-c5c1d989f221')\"\n",
              "              title=\"Convert this dataframe to an interactive table.\"\n",
              "              style=\"display:none;\">\n",
              "        \n",
              "  <svg xmlns=\"http://www.w3.org/2000/svg\" height=\"24px\"viewBox=\"0 0 24 24\"\n",
              "       width=\"24px\">\n",
              "    <path d=\"M0 0h24v24H0V0z\" fill=\"none\"/>\n",
              "    <path d=\"M18.56 5.44l.94 2.06.94-2.06 2.06-.94-2.06-.94-.94-2.06-.94 2.06-2.06.94zm-11 1L8.5 8.5l.94-2.06 2.06-.94-2.06-.94L8.5 2.5l-.94 2.06-2.06.94zm10 10l.94 2.06.94-2.06 2.06-.94-2.06-.94-.94-2.06-.94 2.06-2.06.94z\"/><path d=\"M17.41 7.96l-1.37-1.37c-.4-.4-.92-.59-1.43-.59-.52 0-1.04.2-1.43.59L10.3 9.45l-7.72 7.72c-.78.78-.78 2.05 0 2.83L4 21.41c.39.39.9.59 1.41.59.51 0 1.02-.2 1.41-.59l7.78-7.78 2.81-2.81c.8-.78.8-2.07 0-2.86zM5.41 20L4 18.59l7.72-7.72 1.47 1.35L5.41 20z\"/>\n",
              "  </svg>\n",
              "      </button>\n",
              "      \n",
              "  <style>\n",
              "    .colab-df-container {\n",
              "      display:flex;\n",
              "      flex-wrap:wrap;\n",
              "      gap: 12px;\n",
              "    }\n",
              "\n",
              "    .colab-df-convert {\n",
              "      background-color: #E8F0FE;\n",
              "      border: none;\n",
              "      border-radius: 50%;\n",
              "      cursor: pointer;\n",
              "      display: none;\n",
              "      fill: #1967D2;\n",
              "      height: 32px;\n",
              "      padding: 0 0 0 0;\n",
              "      width: 32px;\n",
              "    }\n",
              "\n",
              "    .colab-df-convert:hover {\n",
              "      background-color: #E2EBFA;\n",
              "      box-shadow: 0px 1px 2px rgba(60, 64, 67, 0.3), 0px 1px 3px 1px rgba(60, 64, 67, 0.15);\n",
              "      fill: #174EA6;\n",
              "    }\n",
              "\n",
              "    [theme=dark] .colab-df-convert {\n",
              "      background-color: #3B4455;\n",
              "      fill: #D2E3FC;\n",
              "    }\n",
              "\n",
              "    [theme=dark] .colab-df-convert:hover {\n",
              "      background-color: #434B5C;\n",
              "      box-shadow: 0px 1px 3px 1px rgba(0, 0, 0, 0.15);\n",
              "      filter: drop-shadow(0px 1px 2px rgba(0, 0, 0, 0.3));\n",
              "      fill: #FFFFFF;\n",
              "    }\n",
              "  </style>\n",
              "\n",
              "      <script>\n",
              "        const buttonEl =\n",
              "          document.querySelector('#df-85c0a466-da61-4417-8c65-c5c1d989f221 button.colab-df-convert');\n",
              "        buttonEl.style.display =\n",
              "          google.colab.kernel.accessAllowed ? 'block' : 'none';\n",
              "\n",
              "        async function convertToInteractive(key) {\n",
              "          const element = document.querySelector('#df-85c0a466-da61-4417-8c65-c5c1d989f221');\n",
              "          const dataTable =\n",
              "            await google.colab.kernel.invokeFunction('convertToInteractive',\n",
              "                                                     [key], {});\n",
              "          if (!dataTable) return;\n",
              "\n",
              "          const docLinkHtml = 'Like what you see? Visit the ' +\n",
              "            '<a target=\"_blank\" href=https://colab.research.google.com/notebooks/data_table.ipynb>data table notebook</a>'\n",
              "            + ' to learn more about interactive tables.';\n",
              "          element.innerHTML = '';\n",
              "          dataTable['output_type'] = 'display_data';\n",
              "          await google.colab.output.renderOutput(dataTable, element);\n",
              "          const docLink = document.createElement('div');\n",
              "          docLink.innerHTML = docLinkHtml;\n",
              "          element.appendChild(docLink);\n",
              "        }\n",
              "      </script>\n",
              "    </div>\n",
              "  </div>\n",
              "  "
            ]
          },
          "metadata": {},
          "execution_count": 47
        }
      ]
    },
    {
      "cell_type": "markdown",
      "source": [
        "## 2° Método - Removendo valores nulos individualmente\n",
        "\n",
        "####(Não vermos mudança, pois os valores nulos já foram substituídos por 0)"
      ],
      "metadata": {
        "id": "WMb-7vdIeXIF"
      }
    },
    {
      "cell_type": "code",
      "source": [
        "#Retirando o \"Valor\"  com valores nulos\n",
        "print('Qtd de Valor => {}'.format(dados_residencial.shape[0]))\n",
        "dados_residencial.dropna(subset=['Valor'], inplace= True)\n",
        "print('Qtd de Valor após limpeza=> {}'.format(dados_residencial.shape[0]))"
      ],
      "metadata": {
        "colab": {
          "base_uri": "https://localhost:8080/"
        },
        "id": "jJt6QGR1VTbu",
        "outputId": "42a10fc6-adb9-4f2a-fc84-6d89bf6666d0"
      },
      "execution_count": 48,
      "outputs": [
        {
          "output_type": "stream",
          "name": "stdout",
          "text": [
            "Qtd de Valor => 22580\n",
            "Qtd de Valor após limpeza=> 22580\n"
          ]
        }
      ]
    },
    {
      "cell_type": "code",
      "source": [
        "#Retirando o \"Condominio\" com valores nulos\n",
        "print('Qtd de Condominio => {}'.format(dados_residencial.shape[0]))\n",
        "dados_residencial.dropna(subset=['Condominio'], inplace = True)\n",
        "print('Qtd de Condominio após limpeza=> {}'.format(dados_residencial.shape[0]))"
      ],
      "metadata": {
        "colab": {
          "base_uri": "https://localhost:8080/"
        },
        "id": "BPplwCHaRAiX",
        "outputId": "02a686cf-95fa-4153-f74f-d8ed2c83dccc"
      },
      "execution_count": 49,
      "outputs": [
        {
          "output_type": "stream",
          "name": "stdout",
          "text": [
            "Qtd de Condominio => 22580\n",
            "Qtd de Condominio após limpeza=> 22580\n"
          ]
        }
      ]
    },
    {
      "cell_type": "code",
      "source": [
        "#Retirando o \"IPTU\" com valores nulos\n",
        "print('Qtd de IPTU => {}'.format(dados_residencial.shape[0]))\n",
        "dados_residencial.dropna(subset=['IPTU'], inplace = True)\n",
        "print('Qtd de IPTU após limpeza=> {}'.format(dados_residencial.shape[0]))"
      ],
      "metadata": {
        "colab": {
          "base_uri": "https://localhost:8080/"
        },
        "id": "E0ufZ79mSfOw",
        "outputId": "c8fbed40-8077-45ed-f957-499fbde9bc4a"
      },
      "execution_count": 50,
      "outputs": [
        {
          "output_type": "stream",
          "name": "stdout",
          "text": [
            "Qtd de IPTU => 22580\n",
            "Qtd de IPTU após limpeza=> 22580\n"
          ]
        }
      ]
    },
    {
      "cell_type": "code",
      "source": [
        "# Verificando se ainda tem valores nulos em nosso DF\n",
        "dados_residencial.isnull().sum()"
      ],
      "metadata": {
        "colab": {
          "base_uri": "https://localhost:8080/"
        },
        "id": "3-BAmSUhaeeM",
        "outputId": "5d862d04-e576-4ba5-8515-40406a193b4b"
      },
      "execution_count": 51,
      "outputs": [
        {
          "output_type": "execute_result",
          "data": {
            "text/plain": [
              "Tipo          0\n",
              "Bairro        0\n",
              "Quartos       0\n",
              "Vagas         0\n",
              "Suites        0\n",
              "Area          0\n",
              "Valor         0\n",
              "Condominio    0\n",
              "IPTU          0\n",
              "dtype: int64"
            ]
          },
          "metadata": {},
          "execution_count": 51
        }
      ]
    },
    {
      "cell_type": "markdown",
      "source": [
        "# Criando Novas Variáveis"
      ],
      "metadata": {
        "id": "4aH9Ilnpjq6E"
      }
    },
    {
      "cell_type": "code",
      "source": [
        "dados_residencial['Valor Bruto'] = dados_residencial.Valor + dados_residencial.IPTU + dados_residencial.Condominio\n",
        "dados_residencial.head(10)"
      ],
      "metadata": {
        "colab": {
          "base_uri": "https://localhost:8080/",
          "height": 363
        },
        "id": "Lk_g0UVHiAVK",
        "outputId": "134ec7ec-f496-438b-a423-a8a6b6fd3874"
      },
      "execution_count": 52,
      "outputs": [
        {
          "output_type": "execute_result",
          "data": {
            "text/plain": [
              "                 Tipo           Bairro  Quartos  Vagas  Suites  Area    Valor  \\\n",
              "0           Quitinete       Copacabana        1      0       0    40   1700.0   \n",
              "1                Casa  Jardim Botânico        2      0       1   100   7000.0   \n",
              "2         Apartamento           Centro        1      0       0    15    800.0   \n",
              "3         Apartamento     Higienópolis        1      0       0    48    800.0   \n",
              "4         Apartamento     Vista Alegre        3      1       0    70   1200.0   \n",
              "5         Apartamento         Cachambi        2      0       0    50   1300.0   \n",
              "6  Casa de Condomínio  Barra da Tijuca        5      4       5   750  22000.0   \n",
              "7  Casa de Condomínio            Ramos        2      2       0    65   1000.0   \n",
              "8         Apartamento           Centro        1      0       0    36   1200.0   \n",
              "9         Apartamento           Grajaú        2      1       0    70   1500.0   \n",
              "\n",
              "   Condominio  IPTU  Valor Bruto  \n",
              "0       500.0  60.0       2260.0  \n",
              "1         0.0   0.0       7000.0  \n",
              "2       390.0  20.0       1210.0  \n",
              "3       230.0   0.0       1030.0  \n",
              "4         0.0   0.0       1200.0  \n",
              "5       301.0  17.0       1618.0  \n",
              "6         0.0   0.0      22000.0  \n",
              "7         0.0   0.0       1000.0  \n",
              "8         0.0   0.0       1200.0  \n",
              "9       642.0  74.0       2216.0  "
            ],
            "text/html": [
              "\n",
              "  <div id=\"df-1ce34b9c-5812-46d2-ab9e-3b2089466ace\">\n",
              "    <div class=\"colab-df-container\">\n",
              "      <div>\n",
              "<style scoped>\n",
              "    .dataframe tbody tr th:only-of-type {\n",
              "        vertical-align: middle;\n",
              "    }\n",
              "\n",
              "    .dataframe tbody tr th {\n",
              "        vertical-align: top;\n",
              "    }\n",
              "\n",
              "    .dataframe thead th {\n",
              "        text-align: right;\n",
              "    }\n",
              "</style>\n",
              "<table border=\"1\" class=\"dataframe\">\n",
              "  <thead>\n",
              "    <tr style=\"text-align: right;\">\n",
              "      <th></th>\n",
              "      <th>Tipo</th>\n",
              "      <th>Bairro</th>\n",
              "      <th>Quartos</th>\n",
              "      <th>Vagas</th>\n",
              "      <th>Suites</th>\n",
              "      <th>Area</th>\n",
              "      <th>Valor</th>\n",
              "      <th>Condominio</th>\n",
              "      <th>IPTU</th>\n",
              "      <th>Valor Bruto</th>\n",
              "    </tr>\n",
              "  </thead>\n",
              "  <tbody>\n",
              "    <tr>\n",
              "      <th>0</th>\n",
              "      <td>Quitinete</td>\n",
              "      <td>Copacabana</td>\n",
              "      <td>1</td>\n",
              "      <td>0</td>\n",
              "      <td>0</td>\n",
              "      <td>40</td>\n",
              "      <td>1700.0</td>\n",
              "      <td>500.0</td>\n",
              "      <td>60.0</td>\n",
              "      <td>2260.0</td>\n",
              "    </tr>\n",
              "    <tr>\n",
              "      <th>1</th>\n",
              "      <td>Casa</td>\n",
              "      <td>Jardim Botânico</td>\n",
              "      <td>2</td>\n",
              "      <td>0</td>\n",
              "      <td>1</td>\n",
              "      <td>100</td>\n",
              "      <td>7000.0</td>\n",
              "      <td>0.0</td>\n",
              "      <td>0.0</td>\n",
              "      <td>7000.0</td>\n",
              "    </tr>\n",
              "    <tr>\n",
              "      <th>2</th>\n",
              "      <td>Apartamento</td>\n",
              "      <td>Centro</td>\n",
              "      <td>1</td>\n",
              "      <td>0</td>\n",
              "      <td>0</td>\n",
              "      <td>15</td>\n",
              "      <td>800.0</td>\n",
              "      <td>390.0</td>\n",
              "      <td>20.0</td>\n",
              "      <td>1210.0</td>\n",
              "    </tr>\n",
              "    <tr>\n",
              "      <th>3</th>\n",
              "      <td>Apartamento</td>\n",
              "      <td>Higienópolis</td>\n",
              "      <td>1</td>\n",
              "      <td>0</td>\n",
              "      <td>0</td>\n",
              "      <td>48</td>\n",
              "      <td>800.0</td>\n",
              "      <td>230.0</td>\n",
              "      <td>0.0</td>\n",
              "      <td>1030.0</td>\n",
              "    </tr>\n",
              "    <tr>\n",
              "      <th>4</th>\n",
              "      <td>Apartamento</td>\n",
              "      <td>Vista Alegre</td>\n",
              "      <td>3</td>\n",
              "      <td>1</td>\n",
              "      <td>0</td>\n",
              "      <td>70</td>\n",
              "      <td>1200.0</td>\n",
              "      <td>0.0</td>\n",
              "      <td>0.0</td>\n",
              "      <td>1200.0</td>\n",
              "    </tr>\n",
              "    <tr>\n",
              "      <th>5</th>\n",
              "      <td>Apartamento</td>\n",
              "      <td>Cachambi</td>\n",
              "      <td>2</td>\n",
              "      <td>0</td>\n",
              "      <td>0</td>\n",
              "      <td>50</td>\n",
              "      <td>1300.0</td>\n",
              "      <td>301.0</td>\n",
              "      <td>17.0</td>\n",
              "      <td>1618.0</td>\n",
              "    </tr>\n",
              "    <tr>\n",
              "      <th>6</th>\n",
              "      <td>Casa de Condomínio</td>\n",
              "      <td>Barra da Tijuca</td>\n",
              "      <td>5</td>\n",
              "      <td>4</td>\n",
              "      <td>5</td>\n",
              "      <td>750</td>\n",
              "      <td>22000.0</td>\n",
              "      <td>0.0</td>\n",
              "      <td>0.0</td>\n",
              "      <td>22000.0</td>\n",
              "    </tr>\n",
              "    <tr>\n",
              "      <th>7</th>\n",
              "      <td>Casa de Condomínio</td>\n",
              "      <td>Ramos</td>\n",
              "      <td>2</td>\n",
              "      <td>2</td>\n",
              "      <td>0</td>\n",
              "      <td>65</td>\n",
              "      <td>1000.0</td>\n",
              "      <td>0.0</td>\n",
              "      <td>0.0</td>\n",
              "      <td>1000.0</td>\n",
              "    </tr>\n",
              "    <tr>\n",
              "      <th>8</th>\n",
              "      <td>Apartamento</td>\n",
              "      <td>Centro</td>\n",
              "      <td>1</td>\n",
              "      <td>0</td>\n",
              "      <td>0</td>\n",
              "      <td>36</td>\n",
              "      <td>1200.0</td>\n",
              "      <td>0.0</td>\n",
              "      <td>0.0</td>\n",
              "      <td>1200.0</td>\n",
              "    </tr>\n",
              "    <tr>\n",
              "      <th>9</th>\n",
              "      <td>Apartamento</td>\n",
              "      <td>Grajaú</td>\n",
              "      <td>2</td>\n",
              "      <td>1</td>\n",
              "      <td>0</td>\n",
              "      <td>70</td>\n",
              "      <td>1500.0</td>\n",
              "      <td>642.0</td>\n",
              "      <td>74.0</td>\n",
              "      <td>2216.0</td>\n",
              "    </tr>\n",
              "  </tbody>\n",
              "</table>\n",
              "</div>\n",
              "      <button class=\"colab-df-convert\" onclick=\"convertToInteractive('df-1ce34b9c-5812-46d2-ab9e-3b2089466ace')\"\n",
              "              title=\"Convert this dataframe to an interactive table.\"\n",
              "              style=\"display:none;\">\n",
              "        \n",
              "  <svg xmlns=\"http://www.w3.org/2000/svg\" height=\"24px\"viewBox=\"0 0 24 24\"\n",
              "       width=\"24px\">\n",
              "    <path d=\"M0 0h24v24H0V0z\" fill=\"none\"/>\n",
              "    <path d=\"M18.56 5.44l.94 2.06.94-2.06 2.06-.94-2.06-.94-.94-2.06-.94 2.06-2.06.94zm-11 1L8.5 8.5l.94-2.06 2.06-.94-2.06-.94L8.5 2.5l-.94 2.06-2.06.94zm10 10l.94 2.06.94-2.06 2.06-.94-2.06-.94-.94-2.06-.94 2.06-2.06.94z\"/><path d=\"M17.41 7.96l-1.37-1.37c-.4-.4-.92-.59-1.43-.59-.52 0-1.04.2-1.43.59L10.3 9.45l-7.72 7.72c-.78.78-.78 2.05 0 2.83L4 21.41c.39.39.9.59 1.41.59.51 0 1.02-.2 1.41-.59l7.78-7.78 2.81-2.81c.8-.78.8-2.07 0-2.86zM5.41 20L4 18.59l7.72-7.72 1.47 1.35L5.41 20z\"/>\n",
              "  </svg>\n",
              "      </button>\n",
              "      \n",
              "  <style>\n",
              "    .colab-df-container {\n",
              "      display:flex;\n",
              "      flex-wrap:wrap;\n",
              "      gap: 12px;\n",
              "    }\n",
              "\n",
              "    .colab-df-convert {\n",
              "      background-color: #E8F0FE;\n",
              "      border: none;\n",
              "      border-radius: 50%;\n",
              "      cursor: pointer;\n",
              "      display: none;\n",
              "      fill: #1967D2;\n",
              "      height: 32px;\n",
              "      padding: 0 0 0 0;\n",
              "      width: 32px;\n",
              "    }\n",
              "\n",
              "    .colab-df-convert:hover {\n",
              "      background-color: #E2EBFA;\n",
              "      box-shadow: 0px 1px 2px rgba(60, 64, 67, 0.3), 0px 1px 3px 1px rgba(60, 64, 67, 0.15);\n",
              "      fill: #174EA6;\n",
              "    }\n",
              "\n",
              "    [theme=dark] .colab-df-convert {\n",
              "      background-color: #3B4455;\n",
              "      fill: #D2E3FC;\n",
              "    }\n",
              "\n",
              "    [theme=dark] .colab-df-convert:hover {\n",
              "      background-color: #434B5C;\n",
              "      box-shadow: 0px 1px 3px 1px rgba(0, 0, 0, 0.15);\n",
              "      filter: drop-shadow(0px 1px 2px rgba(0, 0, 0, 0.3));\n",
              "      fill: #FFFFFF;\n",
              "    }\n",
              "  </style>\n",
              "\n",
              "      <script>\n",
              "        const buttonEl =\n",
              "          document.querySelector('#df-1ce34b9c-5812-46d2-ab9e-3b2089466ace button.colab-df-convert');\n",
              "        buttonEl.style.display =\n",
              "          google.colab.kernel.accessAllowed ? 'block' : 'none';\n",
              "\n",
              "        async function convertToInteractive(key) {\n",
              "          const element = document.querySelector('#df-1ce34b9c-5812-46d2-ab9e-3b2089466ace');\n",
              "          const dataTable =\n",
              "            await google.colab.kernel.invokeFunction('convertToInteractive',\n",
              "                                                     [key], {});\n",
              "          if (!dataTable) return;\n",
              "\n",
              "          const docLinkHtml = 'Like what you see? Visit the ' +\n",
              "            '<a target=\"_blank\" href=https://colab.research.google.com/notebooks/data_table.ipynb>data table notebook</a>'\n",
              "            + ' to learn more about interactive tables.';\n",
              "          element.innerHTML = '';\n",
              "          dataTable['output_type'] = 'display_data';\n",
              "          await google.colab.output.renderOutput(dataTable, element);\n",
              "          const docLink = document.createElement('div');\n",
              "          docLink.innerHTML = docLinkHtml;\n",
              "          element.appendChild(docLink);\n",
              "        }\n",
              "      </script>\n",
              "    </div>\n",
              "  </div>\n",
              "  "
            ]
          },
          "metadata": {},
          "execution_count": 52
        }
      ]
    },
    {
      "cell_type": "code",
      "source": [
        "dados_residencial['Valor m2'] = (dados_residencial.Valor / dados_residencial.Area).round(2)\n",
        "dados_residencial.head(10)"
      ],
      "metadata": {
        "colab": {
          "base_uri": "https://localhost:8080/",
          "height": 363
        },
        "id": "M7LtUKqokGd0",
        "outputId": "c92176cd-3f4b-4f4e-9c09-71a80da61c66"
      },
      "execution_count": 53,
      "outputs": [
        {
          "output_type": "execute_result",
          "data": {
            "text/plain": [
              "                 Tipo           Bairro  Quartos  Vagas  Suites  Area    Valor  \\\n",
              "0           Quitinete       Copacabana        1      0       0    40   1700.0   \n",
              "1                Casa  Jardim Botânico        2      0       1   100   7000.0   \n",
              "2         Apartamento           Centro        1      0       0    15    800.0   \n",
              "3         Apartamento     Higienópolis        1      0       0    48    800.0   \n",
              "4         Apartamento     Vista Alegre        3      1       0    70   1200.0   \n",
              "5         Apartamento         Cachambi        2      0       0    50   1300.0   \n",
              "6  Casa de Condomínio  Barra da Tijuca        5      4       5   750  22000.0   \n",
              "7  Casa de Condomínio            Ramos        2      2       0    65   1000.0   \n",
              "8         Apartamento           Centro        1      0       0    36   1200.0   \n",
              "9         Apartamento           Grajaú        2      1       0    70   1500.0   \n",
              "\n",
              "   Condominio  IPTU  Valor Bruto  Valor m2  \n",
              "0       500.0  60.0       2260.0     42.50  \n",
              "1         0.0   0.0       7000.0     70.00  \n",
              "2       390.0  20.0       1210.0     53.33  \n",
              "3       230.0   0.0       1030.0     16.67  \n",
              "4         0.0   0.0       1200.0     17.14  \n",
              "5       301.0  17.0       1618.0     26.00  \n",
              "6         0.0   0.0      22000.0     29.33  \n",
              "7         0.0   0.0       1000.0     15.38  \n",
              "8         0.0   0.0       1200.0     33.33  \n",
              "9       642.0  74.0       2216.0     21.43  "
            ],
            "text/html": [
              "\n",
              "  <div id=\"df-7fa94e73-b531-41be-81bf-add3749d8876\">\n",
              "    <div class=\"colab-df-container\">\n",
              "      <div>\n",
              "<style scoped>\n",
              "    .dataframe tbody tr th:only-of-type {\n",
              "        vertical-align: middle;\n",
              "    }\n",
              "\n",
              "    .dataframe tbody tr th {\n",
              "        vertical-align: top;\n",
              "    }\n",
              "\n",
              "    .dataframe thead th {\n",
              "        text-align: right;\n",
              "    }\n",
              "</style>\n",
              "<table border=\"1\" class=\"dataframe\">\n",
              "  <thead>\n",
              "    <tr style=\"text-align: right;\">\n",
              "      <th></th>\n",
              "      <th>Tipo</th>\n",
              "      <th>Bairro</th>\n",
              "      <th>Quartos</th>\n",
              "      <th>Vagas</th>\n",
              "      <th>Suites</th>\n",
              "      <th>Area</th>\n",
              "      <th>Valor</th>\n",
              "      <th>Condominio</th>\n",
              "      <th>IPTU</th>\n",
              "      <th>Valor Bruto</th>\n",
              "      <th>Valor m2</th>\n",
              "    </tr>\n",
              "  </thead>\n",
              "  <tbody>\n",
              "    <tr>\n",
              "      <th>0</th>\n",
              "      <td>Quitinete</td>\n",
              "      <td>Copacabana</td>\n",
              "      <td>1</td>\n",
              "      <td>0</td>\n",
              "      <td>0</td>\n",
              "      <td>40</td>\n",
              "      <td>1700.0</td>\n",
              "      <td>500.0</td>\n",
              "      <td>60.0</td>\n",
              "      <td>2260.0</td>\n",
              "      <td>42.50</td>\n",
              "    </tr>\n",
              "    <tr>\n",
              "      <th>1</th>\n",
              "      <td>Casa</td>\n",
              "      <td>Jardim Botânico</td>\n",
              "      <td>2</td>\n",
              "      <td>0</td>\n",
              "      <td>1</td>\n",
              "      <td>100</td>\n",
              "      <td>7000.0</td>\n",
              "      <td>0.0</td>\n",
              "      <td>0.0</td>\n",
              "      <td>7000.0</td>\n",
              "      <td>70.00</td>\n",
              "    </tr>\n",
              "    <tr>\n",
              "      <th>2</th>\n",
              "      <td>Apartamento</td>\n",
              "      <td>Centro</td>\n",
              "      <td>1</td>\n",
              "      <td>0</td>\n",
              "      <td>0</td>\n",
              "      <td>15</td>\n",
              "      <td>800.0</td>\n",
              "      <td>390.0</td>\n",
              "      <td>20.0</td>\n",
              "      <td>1210.0</td>\n",
              "      <td>53.33</td>\n",
              "    </tr>\n",
              "    <tr>\n",
              "      <th>3</th>\n",
              "      <td>Apartamento</td>\n",
              "      <td>Higienópolis</td>\n",
              "      <td>1</td>\n",
              "      <td>0</td>\n",
              "      <td>0</td>\n",
              "      <td>48</td>\n",
              "      <td>800.0</td>\n",
              "      <td>230.0</td>\n",
              "      <td>0.0</td>\n",
              "      <td>1030.0</td>\n",
              "      <td>16.67</td>\n",
              "    </tr>\n",
              "    <tr>\n",
              "      <th>4</th>\n",
              "      <td>Apartamento</td>\n",
              "      <td>Vista Alegre</td>\n",
              "      <td>3</td>\n",
              "      <td>1</td>\n",
              "      <td>0</td>\n",
              "      <td>70</td>\n",
              "      <td>1200.0</td>\n",
              "      <td>0.0</td>\n",
              "      <td>0.0</td>\n",
              "      <td>1200.0</td>\n",
              "      <td>17.14</td>\n",
              "    </tr>\n",
              "    <tr>\n",
              "      <th>5</th>\n",
              "      <td>Apartamento</td>\n",
              "      <td>Cachambi</td>\n",
              "      <td>2</td>\n",
              "      <td>0</td>\n",
              "      <td>0</td>\n",
              "      <td>50</td>\n",
              "      <td>1300.0</td>\n",
              "      <td>301.0</td>\n",
              "      <td>17.0</td>\n",
              "      <td>1618.0</td>\n",
              "      <td>26.00</td>\n",
              "    </tr>\n",
              "    <tr>\n",
              "      <th>6</th>\n",
              "      <td>Casa de Condomínio</td>\n",
              "      <td>Barra da Tijuca</td>\n",
              "      <td>5</td>\n",
              "      <td>4</td>\n",
              "      <td>5</td>\n",
              "      <td>750</td>\n",
              "      <td>22000.0</td>\n",
              "      <td>0.0</td>\n",
              "      <td>0.0</td>\n",
              "      <td>22000.0</td>\n",
              "      <td>29.33</td>\n",
              "    </tr>\n",
              "    <tr>\n",
              "      <th>7</th>\n",
              "      <td>Casa de Condomínio</td>\n",
              "      <td>Ramos</td>\n",
              "      <td>2</td>\n",
              "      <td>2</td>\n",
              "      <td>0</td>\n",
              "      <td>65</td>\n",
              "      <td>1000.0</td>\n",
              "      <td>0.0</td>\n",
              "      <td>0.0</td>\n",
              "      <td>1000.0</td>\n",
              "      <td>15.38</td>\n",
              "    </tr>\n",
              "    <tr>\n",
              "      <th>8</th>\n",
              "      <td>Apartamento</td>\n",
              "      <td>Centro</td>\n",
              "      <td>1</td>\n",
              "      <td>0</td>\n",
              "      <td>0</td>\n",
              "      <td>36</td>\n",
              "      <td>1200.0</td>\n",
              "      <td>0.0</td>\n",
              "      <td>0.0</td>\n",
              "      <td>1200.0</td>\n",
              "      <td>33.33</td>\n",
              "    </tr>\n",
              "    <tr>\n",
              "      <th>9</th>\n",
              "      <td>Apartamento</td>\n",
              "      <td>Grajaú</td>\n",
              "      <td>2</td>\n",
              "      <td>1</td>\n",
              "      <td>0</td>\n",
              "      <td>70</td>\n",
              "      <td>1500.0</td>\n",
              "      <td>642.0</td>\n",
              "      <td>74.0</td>\n",
              "      <td>2216.0</td>\n",
              "      <td>21.43</td>\n",
              "    </tr>\n",
              "  </tbody>\n",
              "</table>\n",
              "</div>\n",
              "      <button class=\"colab-df-convert\" onclick=\"convertToInteractive('df-7fa94e73-b531-41be-81bf-add3749d8876')\"\n",
              "              title=\"Convert this dataframe to an interactive table.\"\n",
              "              style=\"display:none;\">\n",
              "        \n",
              "  <svg xmlns=\"http://www.w3.org/2000/svg\" height=\"24px\"viewBox=\"0 0 24 24\"\n",
              "       width=\"24px\">\n",
              "    <path d=\"M0 0h24v24H0V0z\" fill=\"none\"/>\n",
              "    <path d=\"M18.56 5.44l.94 2.06.94-2.06 2.06-.94-2.06-.94-.94-2.06-.94 2.06-2.06.94zm-11 1L8.5 8.5l.94-2.06 2.06-.94-2.06-.94L8.5 2.5l-.94 2.06-2.06.94zm10 10l.94 2.06.94-2.06 2.06-.94-2.06-.94-.94-2.06-.94 2.06-2.06.94z\"/><path d=\"M17.41 7.96l-1.37-1.37c-.4-.4-.92-.59-1.43-.59-.52 0-1.04.2-1.43.59L10.3 9.45l-7.72 7.72c-.78.78-.78 2.05 0 2.83L4 21.41c.39.39.9.59 1.41.59.51 0 1.02-.2 1.41-.59l7.78-7.78 2.81-2.81c.8-.78.8-2.07 0-2.86zM5.41 20L4 18.59l7.72-7.72 1.47 1.35L5.41 20z\"/>\n",
              "  </svg>\n",
              "      </button>\n",
              "      \n",
              "  <style>\n",
              "    .colab-df-container {\n",
              "      display:flex;\n",
              "      flex-wrap:wrap;\n",
              "      gap: 12px;\n",
              "    }\n",
              "\n",
              "    .colab-df-convert {\n",
              "      background-color: #E8F0FE;\n",
              "      border: none;\n",
              "      border-radius: 50%;\n",
              "      cursor: pointer;\n",
              "      display: none;\n",
              "      fill: #1967D2;\n",
              "      height: 32px;\n",
              "      padding: 0 0 0 0;\n",
              "      width: 32px;\n",
              "    }\n",
              "\n",
              "    .colab-df-convert:hover {\n",
              "      background-color: #E2EBFA;\n",
              "      box-shadow: 0px 1px 2px rgba(60, 64, 67, 0.3), 0px 1px 3px 1px rgba(60, 64, 67, 0.15);\n",
              "      fill: #174EA6;\n",
              "    }\n",
              "\n",
              "    [theme=dark] .colab-df-convert {\n",
              "      background-color: #3B4455;\n",
              "      fill: #D2E3FC;\n",
              "    }\n",
              "\n",
              "    [theme=dark] .colab-df-convert:hover {\n",
              "      background-color: #434B5C;\n",
              "      box-shadow: 0px 1px 3px 1px rgba(0, 0, 0, 0.15);\n",
              "      filter: drop-shadow(0px 1px 2px rgba(0, 0, 0, 0.3));\n",
              "      fill: #FFFFFF;\n",
              "    }\n",
              "  </style>\n",
              "\n",
              "      <script>\n",
              "        const buttonEl =\n",
              "          document.querySelector('#df-7fa94e73-b531-41be-81bf-add3749d8876 button.colab-df-convert');\n",
              "        buttonEl.style.display =\n",
              "          google.colab.kernel.accessAllowed ? 'block' : 'none';\n",
              "\n",
              "        async function convertToInteractive(key) {\n",
              "          const element = document.querySelector('#df-7fa94e73-b531-41be-81bf-add3749d8876');\n",
              "          const dataTable =\n",
              "            await google.colab.kernel.invokeFunction('convertToInteractive',\n",
              "                                                     [key], {});\n",
              "          if (!dataTable) return;\n",
              "\n",
              "          const docLinkHtml = 'Like what you see? Visit the ' +\n",
              "            '<a target=\"_blank\" href=https://colab.research.google.com/notebooks/data_table.ipynb>data table notebook</a>'\n",
              "            + ' to learn more about interactive tables.';\n",
              "          element.innerHTML = '';\n",
              "          dataTable['output_type'] = 'display_data';\n",
              "          await google.colab.output.renderOutput(dataTable, element);\n",
              "          const docLink = document.createElement('div');\n",
              "          docLink.innerHTML = docLinkHtml;\n",
              "          element.appendChild(docLink);\n",
              "        }\n",
              "      </script>\n",
              "    </div>\n",
              "  </div>\n",
              "  "
            ]
          },
          "metadata": {},
          "execution_count": 53
        }
      ]
    },
    {
      "cell_type": "code",
      "execution_count": 54,
      "metadata": {
        "id": "a51a0ec7",
        "outputId": "e16c7dd2-6bea-4ab1-ed1b-64559eb74c03",
        "colab": {
          "base_uri": "https://localhost:8080/",
          "height": 206
        }
      },
      "outputs": [
        {
          "output_type": "execute_result",
          "data": {
            "text/plain": [
              "          Tipo           Bairro  Quartos  Vagas  Suites  Area   Valor  \\\n",
              "0    Quitinete       Copacabana        1      0       0    40  1700.0   \n",
              "1         Casa  Jardim Botânico        2      0       1   100  7000.0   \n",
              "2  Apartamento           Centro        1      0       0    15   800.0   \n",
              "3  Apartamento     Higienópolis        1      0       0    48   800.0   \n",
              "4  Apartamento     Vista Alegre        3      1       0    70  1200.0   \n",
              "\n",
              "   Condominio  IPTU  Valor Bruto  Valor m2  Valor Bruto m2  \n",
              "0       500.0  60.0       2260.0     42.50           56.50  \n",
              "1         0.0   0.0       7000.0     70.00           70.00  \n",
              "2       390.0  20.0       1210.0     53.33           80.67  \n",
              "3       230.0   0.0       1030.0     16.67           21.46  \n",
              "4         0.0   0.0       1200.0     17.14           17.14  "
            ],
            "text/html": [
              "\n",
              "  <div id=\"df-b2100c95-bfbf-4821-a261-c617e5b06611\">\n",
              "    <div class=\"colab-df-container\">\n",
              "      <div>\n",
              "<style scoped>\n",
              "    .dataframe tbody tr th:only-of-type {\n",
              "        vertical-align: middle;\n",
              "    }\n",
              "\n",
              "    .dataframe tbody tr th {\n",
              "        vertical-align: top;\n",
              "    }\n",
              "\n",
              "    .dataframe thead th {\n",
              "        text-align: right;\n",
              "    }\n",
              "</style>\n",
              "<table border=\"1\" class=\"dataframe\">\n",
              "  <thead>\n",
              "    <tr style=\"text-align: right;\">\n",
              "      <th></th>\n",
              "      <th>Tipo</th>\n",
              "      <th>Bairro</th>\n",
              "      <th>Quartos</th>\n",
              "      <th>Vagas</th>\n",
              "      <th>Suites</th>\n",
              "      <th>Area</th>\n",
              "      <th>Valor</th>\n",
              "      <th>Condominio</th>\n",
              "      <th>IPTU</th>\n",
              "      <th>Valor Bruto</th>\n",
              "      <th>Valor m2</th>\n",
              "      <th>Valor Bruto m2</th>\n",
              "    </tr>\n",
              "  </thead>\n",
              "  <tbody>\n",
              "    <tr>\n",
              "      <th>0</th>\n",
              "      <td>Quitinete</td>\n",
              "      <td>Copacabana</td>\n",
              "      <td>1</td>\n",
              "      <td>0</td>\n",
              "      <td>0</td>\n",
              "      <td>40</td>\n",
              "      <td>1700.0</td>\n",
              "      <td>500.0</td>\n",
              "      <td>60.0</td>\n",
              "      <td>2260.0</td>\n",
              "      <td>42.50</td>\n",
              "      <td>56.50</td>\n",
              "    </tr>\n",
              "    <tr>\n",
              "      <th>1</th>\n",
              "      <td>Casa</td>\n",
              "      <td>Jardim Botânico</td>\n",
              "      <td>2</td>\n",
              "      <td>0</td>\n",
              "      <td>1</td>\n",
              "      <td>100</td>\n",
              "      <td>7000.0</td>\n",
              "      <td>0.0</td>\n",
              "      <td>0.0</td>\n",
              "      <td>7000.0</td>\n",
              "      <td>70.00</td>\n",
              "      <td>70.00</td>\n",
              "    </tr>\n",
              "    <tr>\n",
              "      <th>2</th>\n",
              "      <td>Apartamento</td>\n",
              "      <td>Centro</td>\n",
              "      <td>1</td>\n",
              "      <td>0</td>\n",
              "      <td>0</td>\n",
              "      <td>15</td>\n",
              "      <td>800.0</td>\n",
              "      <td>390.0</td>\n",
              "      <td>20.0</td>\n",
              "      <td>1210.0</td>\n",
              "      <td>53.33</td>\n",
              "      <td>80.67</td>\n",
              "    </tr>\n",
              "    <tr>\n",
              "      <th>3</th>\n",
              "      <td>Apartamento</td>\n",
              "      <td>Higienópolis</td>\n",
              "      <td>1</td>\n",
              "      <td>0</td>\n",
              "      <td>0</td>\n",
              "      <td>48</td>\n",
              "      <td>800.0</td>\n",
              "      <td>230.0</td>\n",
              "      <td>0.0</td>\n",
              "      <td>1030.0</td>\n",
              "      <td>16.67</td>\n",
              "      <td>21.46</td>\n",
              "    </tr>\n",
              "    <tr>\n",
              "      <th>4</th>\n",
              "      <td>Apartamento</td>\n",
              "      <td>Vista Alegre</td>\n",
              "      <td>3</td>\n",
              "      <td>1</td>\n",
              "      <td>0</td>\n",
              "      <td>70</td>\n",
              "      <td>1200.0</td>\n",
              "      <td>0.0</td>\n",
              "      <td>0.0</td>\n",
              "      <td>1200.0</td>\n",
              "      <td>17.14</td>\n",
              "      <td>17.14</td>\n",
              "    </tr>\n",
              "  </tbody>\n",
              "</table>\n",
              "</div>\n",
              "      <button class=\"colab-df-convert\" onclick=\"convertToInteractive('df-b2100c95-bfbf-4821-a261-c617e5b06611')\"\n",
              "              title=\"Convert this dataframe to an interactive table.\"\n",
              "              style=\"display:none;\">\n",
              "        \n",
              "  <svg xmlns=\"http://www.w3.org/2000/svg\" height=\"24px\"viewBox=\"0 0 24 24\"\n",
              "       width=\"24px\">\n",
              "    <path d=\"M0 0h24v24H0V0z\" fill=\"none\"/>\n",
              "    <path d=\"M18.56 5.44l.94 2.06.94-2.06 2.06-.94-2.06-.94-.94-2.06-.94 2.06-2.06.94zm-11 1L8.5 8.5l.94-2.06 2.06-.94-2.06-.94L8.5 2.5l-.94 2.06-2.06.94zm10 10l.94 2.06.94-2.06 2.06-.94-2.06-.94-.94-2.06-.94 2.06-2.06.94z\"/><path d=\"M17.41 7.96l-1.37-1.37c-.4-.4-.92-.59-1.43-.59-.52 0-1.04.2-1.43.59L10.3 9.45l-7.72 7.72c-.78.78-.78 2.05 0 2.83L4 21.41c.39.39.9.59 1.41.59.51 0 1.02-.2 1.41-.59l7.78-7.78 2.81-2.81c.8-.78.8-2.07 0-2.86zM5.41 20L4 18.59l7.72-7.72 1.47 1.35L5.41 20z\"/>\n",
              "  </svg>\n",
              "      </button>\n",
              "      \n",
              "  <style>\n",
              "    .colab-df-container {\n",
              "      display:flex;\n",
              "      flex-wrap:wrap;\n",
              "      gap: 12px;\n",
              "    }\n",
              "\n",
              "    .colab-df-convert {\n",
              "      background-color: #E8F0FE;\n",
              "      border: none;\n",
              "      border-radius: 50%;\n",
              "      cursor: pointer;\n",
              "      display: none;\n",
              "      fill: #1967D2;\n",
              "      height: 32px;\n",
              "      padding: 0 0 0 0;\n",
              "      width: 32px;\n",
              "    }\n",
              "\n",
              "    .colab-df-convert:hover {\n",
              "      background-color: #E2EBFA;\n",
              "      box-shadow: 0px 1px 2px rgba(60, 64, 67, 0.3), 0px 1px 3px 1px rgba(60, 64, 67, 0.15);\n",
              "      fill: #174EA6;\n",
              "    }\n",
              "\n",
              "    [theme=dark] .colab-df-convert {\n",
              "      background-color: #3B4455;\n",
              "      fill: #D2E3FC;\n",
              "    }\n",
              "\n",
              "    [theme=dark] .colab-df-convert:hover {\n",
              "      background-color: #434B5C;\n",
              "      box-shadow: 0px 1px 3px 1px rgba(0, 0, 0, 0.15);\n",
              "      filter: drop-shadow(0px 1px 2px rgba(0, 0, 0, 0.3));\n",
              "      fill: #FFFFFF;\n",
              "    }\n",
              "  </style>\n",
              "\n",
              "      <script>\n",
              "        const buttonEl =\n",
              "          document.querySelector('#df-b2100c95-bfbf-4821-a261-c617e5b06611 button.colab-df-convert');\n",
              "        buttonEl.style.display =\n",
              "          google.colab.kernel.accessAllowed ? 'block' : 'none';\n",
              "\n",
              "        async function convertToInteractive(key) {\n",
              "          const element = document.querySelector('#df-b2100c95-bfbf-4821-a261-c617e5b06611');\n",
              "          const dataTable =\n",
              "            await google.colab.kernel.invokeFunction('convertToInteractive',\n",
              "                                                     [key], {});\n",
              "          if (!dataTable) return;\n",
              "\n",
              "          const docLinkHtml = 'Like what you see? Visit the ' +\n",
              "            '<a target=\"_blank\" href=https://colab.research.google.com/notebooks/data_table.ipynb>data table notebook</a>'\n",
              "            + ' to learn more about interactive tables.';\n",
              "          element.innerHTML = '';\n",
              "          dataTable['output_type'] = 'display_data';\n",
              "          await google.colab.output.renderOutput(dataTable, element);\n",
              "          const docLink = document.createElement('div');\n",
              "          docLink.innerHTML = docLinkHtml;\n",
              "          element.appendChild(docLink);\n",
              "        }\n",
              "      </script>\n",
              "    </div>\n",
              "  </div>\n",
              "  "
            ]
          },
          "metadata": {},
          "execution_count": 54
        }
      ],
      "source": [
        "#Valor bruto m2:\n",
        "dados_residencial['Valor Bruto m2'] = (dados_residencial['Valor Bruto']/dados_residencial.Area).round(2)\n",
        "dados_residencial.head(5)"
      ]
    },
    {
      "cell_type": "code",
      "source": [
        "casa = ['Casa', 'Casa de Condomínio', 'Casa de Vila']"
      ],
      "metadata": {
        "id": "WSkr51lBkb8O"
      },
      "execution_count": 55,
      "outputs": []
    },
    {
      "cell_type": "markdown",
      "source": [
        "###O aplly: trabalha em determinada coluna, passando por todas as linhas aplicando uma função em cada uma delas\n",
        "###Funcao Lambda, é uma função anônima de apenas 1 linha"
      ],
      "metadata": {
        "id": "jeFapTMKrVsd"
      }
    },
    {
      "cell_type": "code",
      "source": [
        "#                                                                  retorna imovel 'Casa' se imovel in casa senao 'Apartamento'\n",
        "dados_residencial['Tipo Agregado'] = dados_residencial.Tipo.apply(lambda imovel : 'Casa' if imovel in casa else 'Apartamento')\n",
        "dados_residencial.head(4)"
      ],
      "metadata": {
        "colab": {
          "base_uri": "https://localhost:8080/",
          "height": 175
        },
        "id": "NyNAz4UykknT",
        "outputId": "4fb8d072-033d-4a39-8a09-78deb415ddbe"
      },
      "execution_count": 56,
      "outputs": [
        {
          "output_type": "execute_result",
          "data": {
            "text/plain": [
              "          Tipo           Bairro  Quartos  Vagas  Suites  Area   Valor  \\\n",
              "0    Quitinete       Copacabana        1      0       0    40  1700.0   \n",
              "1         Casa  Jardim Botânico        2      0       1   100  7000.0   \n",
              "2  Apartamento           Centro        1      0       0    15   800.0   \n",
              "3  Apartamento     Higienópolis        1      0       0    48   800.0   \n",
              "\n",
              "   Condominio  IPTU  Valor Bruto  Valor m2  Valor Bruto m2 Tipo Agregado  \n",
              "0       500.0  60.0       2260.0     42.50           56.50   Apartamento  \n",
              "1         0.0   0.0       7000.0     70.00           70.00          Casa  \n",
              "2       390.0  20.0       1210.0     53.33           80.67   Apartamento  \n",
              "3       230.0   0.0       1030.0     16.67           21.46   Apartamento  "
            ],
            "text/html": [
              "\n",
              "  <div id=\"df-119248a1-fd3d-418f-87c0-088b891c018c\">\n",
              "    <div class=\"colab-df-container\">\n",
              "      <div>\n",
              "<style scoped>\n",
              "    .dataframe tbody tr th:only-of-type {\n",
              "        vertical-align: middle;\n",
              "    }\n",
              "\n",
              "    .dataframe tbody tr th {\n",
              "        vertical-align: top;\n",
              "    }\n",
              "\n",
              "    .dataframe thead th {\n",
              "        text-align: right;\n",
              "    }\n",
              "</style>\n",
              "<table border=\"1\" class=\"dataframe\">\n",
              "  <thead>\n",
              "    <tr style=\"text-align: right;\">\n",
              "      <th></th>\n",
              "      <th>Tipo</th>\n",
              "      <th>Bairro</th>\n",
              "      <th>Quartos</th>\n",
              "      <th>Vagas</th>\n",
              "      <th>Suites</th>\n",
              "      <th>Area</th>\n",
              "      <th>Valor</th>\n",
              "      <th>Condominio</th>\n",
              "      <th>IPTU</th>\n",
              "      <th>Valor Bruto</th>\n",
              "      <th>Valor m2</th>\n",
              "      <th>Valor Bruto m2</th>\n",
              "      <th>Tipo Agregado</th>\n",
              "    </tr>\n",
              "  </thead>\n",
              "  <tbody>\n",
              "    <tr>\n",
              "      <th>0</th>\n",
              "      <td>Quitinete</td>\n",
              "      <td>Copacabana</td>\n",
              "      <td>1</td>\n",
              "      <td>0</td>\n",
              "      <td>0</td>\n",
              "      <td>40</td>\n",
              "      <td>1700.0</td>\n",
              "      <td>500.0</td>\n",
              "      <td>60.0</td>\n",
              "      <td>2260.0</td>\n",
              "      <td>42.50</td>\n",
              "      <td>56.50</td>\n",
              "      <td>Apartamento</td>\n",
              "    </tr>\n",
              "    <tr>\n",
              "      <th>1</th>\n",
              "      <td>Casa</td>\n",
              "      <td>Jardim Botânico</td>\n",
              "      <td>2</td>\n",
              "      <td>0</td>\n",
              "      <td>1</td>\n",
              "      <td>100</td>\n",
              "      <td>7000.0</td>\n",
              "      <td>0.0</td>\n",
              "      <td>0.0</td>\n",
              "      <td>7000.0</td>\n",
              "      <td>70.00</td>\n",
              "      <td>70.00</td>\n",
              "      <td>Casa</td>\n",
              "    </tr>\n",
              "    <tr>\n",
              "      <th>2</th>\n",
              "      <td>Apartamento</td>\n",
              "      <td>Centro</td>\n",
              "      <td>1</td>\n",
              "      <td>0</td>\n",
              "      <td>0</td>\n",
              "      <td>15</td>\n",
              "      <td>800.0</td>\n",
              "      <td>390.0</td>\n",
              "      <td>20.0</td>\n",
              "      <td>1210.0</td>\n",
              "      <td>53.33</td>\n",
              "      <td>80.67</td>\n",
              "      <td>Apartamento</td>\n",
              "    </tr>\n",
              "    <tr>\n",
              "      <th>3</th>\n",
              "      <td>Apartamento</td>\n",
              "      <td>Higienópolis</td>\n",
              "      <td>1</td>\n",
              "      <td>0</td>\n",
              "      <td>0</td>\n",
              "      <td>48</td>\n",
              "      <td>800.0</td>\n",
              "      <td>230.0</td>\n",
              "      <td>0.0</td>\n",
              "      <td>1030.0</td>\n",
              "      <td>16.67</td>\n",
              "      <td>21.46</td>\n",
              "      <td>Apartamento</td>\n",
              "    </tr>\n",
              "  </tbody>\n",
              "</table>\n",
              "</div>\n",
              "      <button class=\"colab-df-convert\" onclick=\"convertToInteractive('df-119248a1-fd3d-418f-87c0-088b891c018c')\"\n",
              "              title=\"Convert this dataframe to an interactive table.\"\n",
              "              style=\"display:none;\">\n",
              "        \n",
              "  <svg xmlns=\"http://www.w3.org/2000/svg\" height=\"24px\"viewBox=\"0 0 24 24\"\n",
              "       width=\"24px\">\n",
              "    <path d=\"M0 0h24v24H0V0z\" fill=\"none\"/>\n",
              "    <path d=\"M18.56 5.44l.94 2.06.94-2.06 2.06-.94-2.06-.94-.94-2.06-.94 2.06-2.06.94zm-11 1L8.5 8.5l.94-2.06 2.06-.94-2.06-.94L8.5 2.5l-.94 2.06-2.06.94zm10 10l.94 2.06.94-2.06 2.06-.94-2.06-.94-.94-2.06-.94 2.06-2.06.94z\"/><path d=\"M17.41 7.96l-1.37-1.37c-.4-.4-.92-.59-1.43-.59-.52 0-1.04.2-1.43.59L10.3 9.45l-7.72 7.72c-.78.78-.78 2.05 0 2.83L4 21.41c.39.39.9.59 1.41.59.51 0 1.02-.2 1.41-.59l7.78-7.78 2.81-2.81c.8-.78.8-2.07 0-2.86zM5.41 20L4 18.59l7.72-7.72 1.47 1.35L5.41 20z\"/>\n",
              "  </svg>\n",
              "      </button>\n",
              "      \n",
              "  <style>\n",
              "    .colab-df-container {\n",
              "      display:flex;\n",
              "      flex-wrap:wrap;\n",
              "      gap: 12px;\n",
              "    }\n",
              "\n",
              "    .colab-df-convert {\n",
              "      background-color: #E8F0FE;\n",
              "      border: none;\n",
              "      border-radius: 50%;\n",
              "      cursor: pointer;\n",
              "      display: none;\n",
              "      fill: #1967D2;\n",
              "      height: 32px;\n",
              "      padding: 0 0 0 0;\n",
              "      width: 32px;\n",
              "    }\n",
              "\n",
              "    .colab-df-convert:hover {\n",
              "      background-color: #E2EBFA;\n",
              "      box-shadow: 0px 1px 2px rgba(60, 64, 67, 0.3), 0px 1px 3px 1px rgba(60, 64, 67, 0.15);\n",
              "      fill: #174EA6;\n",
              "    }\n",
              "\n",
              "    [theme=dark] .colab-df-convert {\n",
              "      background-color: #3B4455;\n",
              "      fill: #D2E3FC;\n",
              "    }\n",
              "\n",
              "    [theme=dark] .colab-df-convert:hover {\n",
              "      background-color: #434B5C;\n",
              "      box-shadow: 0px 1px 3px 1px rgba(0, 0, 0, 0.15);\n",
              "      filter: drop-shadow(0px 1px 2px rgba(0, 0, 0, 0.3));\n",
              "      fill: #FFFFFF;\n",
              "    }\n",
              "  </style>\n",
              "\n",
              "      <script>\n",
              "        const buttonEl =\n",
              "          document.querySelector('#df-119248a1-fd3d-418f-87c0-088b891c018c button.colab-df-convert');\n",
              "        buttonEl.style.display =\n",
              "          google.colab.kernel.accessAllowed ? 'block' : 'none';\n",
              "\n",
              "        async function convertToInteractive(key) {\n",
              "          const element = document.querySelector('#df-119248a1-fd3d-418f-87c0-088b891c018c');\n",
              "          const dataTable =\n",
              "            await google.colab.kernel.invokeFunction('convertToInteractive',\n",
              "                                                     [key], {});\n",
              "          if (!dataTable) return;\n",
              "\n",
              "          const docLinkHtml = 'Like what you see? Visit the ' +\n",
              "            '<a target=\"_blank\" href=https://colab.research.google.com/notebooks/data_table.ipynb>data table notebook</a>'\n",
              "            + ' to learn more about interactive tables.';\n",
              "          element.innerHTML = '';\n",
              "          dataTable['output_type'] = 'display_data';\n",
              "          await google.colab.output.renderOutput(dataTable, element);\n",
              "          const docLink = document.createElement('div');\n",
              "          docLink.innerHTML = docLinkHtml;\n",
              "          element.appendChild(docLink);\n",
              "        }\n",
              "      </script>\n",
              "    </div>\n",
              "  </div>\n",
              "  "
            ]
          },
          "metadata": {},
          "execution_count": 56
        }
      ]
    },
    {
      "cell_type": "markdown",
      "source": [
        "## Excluindo Variáveis"
      ],
      "metadata": {
        "id": "Yn_CfU56sCXL"
      }
    },
    {
      "cell_type": "code",
      "source": [
        "dados_residencial.drop(['Valor Bruto', 'Valor Bruto m2'], axis = 1, inplace = True)"
      ],
      "metadata": {
        "id": "AB4N4F37mOwa"
      },
      "execution_count": 57,
      "outputs": []
    },
    {
      "cell_type": "code",
      "source": [
        "dados_residencial.head(4)"
      ],
      "metadata": {
        "colab": {
          "base_uri": "https://localhost:8080/",
          "height": 175
        },
        "id": "BHhUYLkhtPPO",
        "outputId": "686e95cf-5aea-4794-95cd-1a369472b909"
      },
      "execution_count": 58,
      "outputs": [
        {
          "output_type": "execute_result",
          "data": {
            "text/plain": [
              "          Tipo           Bairro  Quartos  Vagas  Suites  Area   Valor  \\\n",
              "0    Quitinete       Copacabana        1      0       0    40  1700.0   \n",
              "1         Casa  Jardim Botânico        2      0       1   100  7000.0   \n",
              "2  Apartamento           Centro        1      0       0    15   800.0   \n",
              "3  Apartamento     Higienópolis        1      0       0    48   800.0   \n",
              "\n",
              "   Condominio  IPTU  Valor m2 Tipo Agregado  \n",
              "0       500.0  60.0     42.50   Apartamento  \n",
              "1         0.0   0.0     70.00          Casa  \n",
              "2       390.0  20.0     53.33   Apartamento  \n",
              "3       230.0   0.0     16.67   Apartamento  "
            ],
            "text/html": [
              "\n",
              "  <div id=\"df-2ddaa63a-9dfc-4a81-a816-8a82e6903ecc\">\n",
              "    <div class=\"colab-df-container\">\n",
              "      <div>\n",
              "<style scoped>\n",
              "    .dataframe tbody tr th:only-of-type {\n",
              "        vertical-align: middle;\n",
              "    }\n",
              "\n",
              "    .dataframe tbody tr th {\n",
              "        vertical-align: top;\n",
              "    }\n",
              "\n",
              "    .dataframe thead th {\n",
              "        text-align: right;\n",
              "    }\n",
              "</style>\n",
              "<table border=\"1\" class=\"dataframe\">\n",
              "  <thead>\n",
              "    <tr style=\"text-align: right;\">\n",
              "      <th></th>\n",
              "      <th>Tipo</th>\n",
              "      <th>Bairro</th>\n",
              "      <th>Quartos</th>\n",
              "      <th>Vagas</th>\n",
              "      <th>Suites</th>\n",
              "      <th>Area</th>\n",
              "      <th>Valor</th>\n",
              "      <th>Condominio</th>\n",
              "      <th>IPTU</th>\n",
              "      <th>Valor m2</th>\n",
              "      <th>Tipo Agregado</th>\n",
              "    </tr>\n",
              "  </thead>\n",
              "  <tbody>\n",
              "    <tr>\n",
              "      <th>0</th>\n",
              "      <td>Quitinete</td>\n",
              "      <td>Copacabana</td>\n",
              "      <td>1</td>\n",
              "      <td>0</td>\n",
              "      <td>0</td>\n",
              "      <td>40</td>\n",
              "      <td>1700.0</td>\n",
              "      <td>500.0</td>\n",
              "      <td>60.0</td>\n",
              "      <td>42.50</td>\n",
              "      <td>Apartamento</td>\n",
              "    </tr>\n",
              "    <tr>\n",
              "      <th>1</th>\n",
              "      <td>Casa</td>\n",
              "      <td>Jardim Botânico</td>\n",
              "      <td>2</td>\n",
              "      <td>0</td>\n",
              "      <td>1</td>\n",
              "      <td>100</td>\n",
              "      <td>7000.0</td>\n",
              "      <td>0.0</td>\n",
              "      <td>0.0</td>\n",
              "      <td>70.00</td>\n",
              "      <td>Casa</td>\n",
              "    </tr>\n",
              "    <tr>\n",
              "      <th>2</th>\n",
              "      <td>Apartamento</td>\n",
              "      <td>Centro</td>\n",
              "      <td>1</td>\n",
              "      <td>0</td>\n",
              "      <td>0</td>\n",
              "      <td>15</td>\n",
              "      <td>800.0</td>\n",
              "      <td>390.0</td>\n",
              "      <td>20.0</td>\n",
              "      <td>53.33</td>\n",
              "      <td>Apartamento</td>\n",
              "    </tr>\n",
              "    <tr>\n",
              "      <th>3</th>\n",
              "      <td>Apartamento</td>\n",
              "      <td>Higienópolis</td>\n",
              "      <td>1</td>\n",
              "      <td>0</td>\n",
              "      <td>0</td>\n",
              "      <td>48</td>\n",
              "      <td>800.0</td>\n",
              "      <td>230.0</td>\n",
              "      <td>0.0</td>\n",
              "      <td>16.67</td>\n",
              "      <td>Apartamento</td>\n",
              "    </tr>\n",
              "  </tbody>\n",
              "</table>\n",
              "</div>\n",
              "      <button class=\"colab-df-convert\" onclick=\"convertToInteractive('df-2ddaa63a-9dfc-4a81-a816-8a82e6903ecc')\"\n",
              "              title=\"Convert this dataframe to an interactive table.\"\n",
              "              style=\"display:none;\">\n",
              "        \n",
              "  <svg xmlns=\"http://www.w3.org/2000/svg\" height=\"24px\"viewBox=\"0 0 24 24\"\n",
              "       width=\"24px\">\n",
              "    <path d=\"M0 0h24v24H0V0z\" fill=\"none\"/>\n",
              "    <path d=\"M18.56 5.44l.94 2.06.94-2.06 2.06-.94-2.06-.94-.94-2.06-.94 2.06-2.06.94zm-11 1L8.5 8.5l.94-2.06 2.06-.94-2.06-.94L8.5 2.5l-.94 2.06-2.06.94zm10 10l.94 2.06.94-2.06 2.06-.94-2.06-.94-.94-2.06-.94 2.06-2.06.94z\"/><path d=\"M17.41 7.96l-1.37-1.37c-.4-.4-.92-.59-1.43-.59-.52 0-1.04.2-1.43.59L10.3 9.45l-7.72 7.72c-.78.78-.78 2.05 0 2.83L4 21.41c.39.39.9.59 1.41.59.51 0 1.02-.2 1.41-.59l7.78-7.78 2.81-2.81c.8-.78.8-2.07 0-2.86zM5.41 20L4 18.59l7.72-7.72 1.47 1.35L5.41 20z\"/>\n",
              "  </svg>\n",
              "      </button>\n",
              "      \n",
              "  <style>\n",
              "    .colab-df-container {\n",
              "      display:flex;\n",
              "      flex-wrap:wrap;\n",
              "      gap: 12px;\n",
              "    }\n",
              "\n",
              "    .colab-df-convert {\n",
              "      background-color: #E8F0FE;\n",
              "      border: none;\n",
              "      border-radius: 50%;\n",
              "      cursor: pointer;\n",
              "      display: none;\n",
              "      fill: #1967D2;\n",
              "      height: 32px;\n",
              "      padding: 0 0 0 0;\n",
              "      width: 32px;\n",
              "    }\n",
              "\n",
              "    .colab-df-convert:hover {\n",
              "      background-color: #E2EBFA;\n",
              "      box-shadow: 0px 1px 2px rgba(60, 64, 67, 0.3), 0px 1px 3px 1px rgba(60, 64, 67, 0.15);\n",
              "      fill: #174EA6;\n",
              "    }\n",
              "\n",
              "    [theme=dark] .colab-df-convert {\n",
              "      background-color: #3B4455;\n",
              "      fill: #D2E3FC;\n",
              "    }\n",
              "\n",
              "    [theme=dark] .colab-df-convert:hover {\n",
              "      background-color: #434B5C;\n",
              "      box-shadow: 0px 1px 3px 1px rgba(0, 0, 0, 0.15);\n",
              "      filter: drop-shadow(0px 1px 2px rgba(0, 0, 0, 0.3));\n",
              "      fill: #FFFFFF;\n",
              "    }\n",
              "  </style>\n",
              "\n",
              "      <script>\n",
              "        const buttonEl =\n",
              "          document.querySelector('#df-2ddaa63a-9dfc-4a81-a816-8a82e6903ecc button.colab-df-convert');\n",
              "        buttonEl.style.display =\n",
              "          google.colab.kernel.accessAllowed ? 'block' : 'none';\n",
              "\n",
              "        async function convertToInteractive(key) {\n",
              "          const element = document.querySelector('#df-2ddaa63a-9dfc-4a81-a816-8a82e6903ecc');\n",
              "          const dataTable =\n",
              "            await google.colab.kernel.invokeFunction('convertToInteractive',\n",
              "                                                     [key], {});\n",
              "          if (!dataTable) return;\n",
              "\n",
              "          const docLinkHtml = 'Like what you see? Visit the ' +\n",
              "            '<a target=\"_blank\" href=https://colab.research.google.com/notebooks/data_table.ipynb>data table notebook</a>'\n",
              "            + ' to learn more about interactive tables.';\n",
              "          element.innerHTML = '';\n",
              "          dataTable['output_type'] = 'display_data';\n",
              "          await google.colab.output.renderOutput(dataTable, element);\n",
              "          const docLink = document.createElement('div');\n",
              "          docLink.innerHTML = docLinkHtml;\n",
              "          element.appendChild(docLink);\n",
              "        }\n",
              "      </script>\n",
              "    </div>\n",
              "  </div>\n",
              "  "
            ]
          },
          "metadata": {},
          "execution_count": 58
        }
      ]
    },
    {
      "cell_type": "markdown",
      "source": [
        "#Criando Agrupamentos\n",
        "\n"
      ],
      "metadata": {
        "id": "FbdbwElOubo7"
      }
    },
    {
      "cell_type": "markdown",
      "source": [
        "### Agrupando por Bairros \"nobres\" do Rio de Janeiro"
      ],
      "metadata": {
        "id": "PHTtNZma_wLE"
      }
    },
    {
      "cell_type": "code",
      "source": [
        "bairro  = ['Barra da Tijuca', 'Copacabana', 'Ipanema', 'Leblon', 'Botafogo', 'Flamengo', 'Tijuca']"
      ],
      "metadata": {
        "id": "ALMXehg2uGkP"
      },
      "execution_count": 59,
      "outputs": []
    },
    {
      "cell_type": "code",
      "source": [
        "# Selecao com os Bairros do DF que são iguais a 'bairro'. Usaremos o Isin, pois ao usarmos ele como referencia, será criado um Df apenas com os valores \"Trues\"\n",
        "selecao = dados_residencial.Bairro.isin(bairro)\n",
        "dados_residencial = dados_residencial[selecao]"
      ],
      "metadata": {
        "id": "klTPX10g_-vo"
      },
      "execution_count": 60,
      "outputs": []
    },
    {
      "cell_type": "markdown",
      "source": [
        "## Agrupando os Bairros"
      ],
      "metadata": {
        "id": "GBLkDbv9EMWC"
      }
    },
    {
      "cell_type": "code",
      "source": [
        "grupo_bairro = dados_residencial.groupby('Bairro')"
      ],
      "metadata": {
        "id": "kx3yzeriDxuS"
      },
      "execution_count": 61,
      "outputs": []
    },
    {
      "cell_type": "markdown",
      "source": [
        "#### Criaremos um laço 'for' passando a chava criada, dados e o grupo\n",
        "#### Utilizaremos esse formato no for porque a intenção é mostras as chaves"
      ],
      "metadata": {
        "id": "7j8bRcmmHe40"
      }
    },
    {
      "cell_type": "code",
      "source": [
        "# para chave, dados in grupo bairros\n",
        "\n",
        "for bairro, dados_residencial in grupo_bairro:\n",
        "    print(bairro)\n",
        "\n",
        "# for chave, valor in grupo_bairro:\n",
        "# print(chave)"
      ],
      "metadata": {
        "colab": {
          "base_uri": "https://localhost:8080/"
        },
        "id": "sGA6emaZElMg",
        "outputId": "927518db-f22b-48a9-d6a4-27c431311346"
      },
      "execution_count": 62,
      "outputs": [
        {
          "output_type": "stream",
          "name": "stdout",
          "text": [
            "Barra da Tijuca\n",
            "Botafogo\n",
            "Copacabana\n",
            "Flamengo\n",
            "Ipanema\n",
            "Leblon\n",
            "Tijuca\n"
          ]
        }
      ]
    },
    {
      "cell_type": "markdown",
      "source": [
        "## Valor Médio do Aluguel em cada um Desses Bairros\n"
      ],
      "metadata": {
        "id": "_6Jt8RucDYOk"
      }
    },
    {
      "cell_type": "code",
      "source": [
        "for bairro, dados_residencial in grupo_bairro:\n",
        "  print('{} => R$ {}'.format(bairro, dados_residencial.Valor.mean().round(2)))"
      ],
      "metadata": {
        "colab": {
          "base_uri": "https://localhost:8080/"
        },
        "id": "-7tJBxzsBRQi",
        "outputId": "2c783fa5-ba96-4dcb-ba31-639fdb579cd4"
      },
      "execution_count": 63,
      "outputs": [
        {
          "output_type": "stream",
          "name": "stdout",
          "text": [
            "Barra da Tijuca => R$ 7071.92\n",
            "Botafogo => R$ 8681.2\n",
            "Copacabana => R$ 4135.91\n",
            "Flamengo => R$ 4148.49\n",
            "Ipanema => R$ 9375.91\n",
            "Leblon => R$ 8757.75\n",
            "Tijuca => R$ 2042.19\n"
          ]
        }
      ]
    },
    {
      "cell_type": "markdown",
      "source": [
        "## Valor Mínimo e Valor Máximo do Aluguel em cada um Desses Bairros\n"
      ],
      "metadata": {
        "id": "w6x8YpdsacWg"
      }
    },
    {
      "cell_type": "code",
      "source": [
        "# Aggregate é utilizado para mostrar apenas as estatísticas que te enteressa\n",
        "grupo_bairro.Valor.aggregate(['min', 'max']).rename(columns ={'min': 'Mínimo', 'max':'Máximo'})"
      ],
      "metadata": {
        "colab": {
          "base_uri": "https://localhost:8080/",
          "height": 300
        },
        "id": "5g3876O9aHRb",
        "outputId": "527fc5d6-7ebe-4c45-9a1b-1e749925923b"
      },
      "execution_count": 64,
      "outputs": [
        {
          "output_type": "execute_result",
          "data": {
            "text/plain": [
              "                 Mínimo     Máximo\n",
              "Bairro                            \n",
              "Barra da Tijuca     0.0   600000.0\n",
              "Botafogo            0.0  4500000.0\n",
              "Copacabana          0.0    35000.0\n",
              "Flamengo          800.0    35000.0\n",
              "Ipanema          1200.0    90000.0\n",
              "Leblon            100.0   100000.0\n",
              "Tijuca            750.0    45000.0"
            ],
            "text/html": [
              "\n",
              "  <div id=\"df-298fcc80-ce81-4281-9ea8-449f34c411b8\">\n",
              "    <div class=\"colab-df-container\">\n",
              "      <div>\n",
              "<style scoped>\n",
              "    .dataframe tbody tr th:only-of-type {\n",
              "        vertical-align: middle;\n",
              "    }\n",
              "\n",
              "    .dataframe tbody tr th {\n",
              "        vertical-align: top;\n",
              "    }\n",
              "\n",
              "    .dataframe thead th {\n",
              "        text-align: right;\n",
              "    }\n",
              "</style>\n",
              "<table border=\"1\" class=\"dataframe\">\n",
              "  <thead>\n",
              "    <tr style=\"text-align: right;\">\n",
              "      <th></th>\n",
              "      <th>Mínimo</th>\n",
              "      <th>Máximo</th>\n",
              "    </tr>\n",
              "    <tr>\n",
              "      <th>Bairro</th>\n",
              "      <th></th>\n",
              "      <th></th>\n",
              "    </tr>\n",
              "  </thead>\n",
              "  <tbody>\n",
              "    <tr>\n",
              "      <th>Barra da Tijuca</th>\n",
              "      <td>0.0</td>\n",
              "      <td>600000.0</td>\n",
              "    </tr>\n",
              "    <tr>\n",
              "      <th>Botafogo</th>\n",
              "      <td>0.0</td>\n",
              "      <td>4500000.0</td>\n",
              "    </tr>\n",
              "    <tr>\n",
              "      <th>Copacabana</th>\n",
              "      <td>0.0</td>\n",
              "      <td>35000.0</td>\n",
              "    </tr>\n",
              "    <tr>\n",
              "      <th>Flamengo</th>\n",
              "      <td>800.0</td>\n",
              "      <td>35000.0</td>\n",
              "    </tr>\n",
              "    <tr>\n",
              "      <th>Ipanema</th>\n",
              "      <td>1200.0</td>\n",
              "      <td>90000.0</td>\n",
              "    </tr>\n",
              "    <tr>\n",
              "      <th>Leblon</th>\n",
              "      <td>100.0</td>\n",
              "      <td>100000.0</td>\n",
              "    </tr>\n",
              "    <tr>\n",
              "      <th>Tijuca</th>\n",
              "      <td>750.0</td>\n",
              "      <td>45000.0</td>\n",
              "    </tr>\n",
              "  </tbody>\n",
              "</table>\n",
              "</div>\n",
              "      <button class=\"colab-df-convert\" onclick=\"convertToInteractive('df-298fcc80-ce81-4281-9ea8-449f34c411b8')\"\n",
              "              title=\"Convert this dataframe to an interactive table.\"\n",
              "              style=\"display:none;\">\n",
              "        \n",
              "  <svg xmlns=\"http://www.w3.org/2000/svg\" height=\"24px\"viewBox=\"0 0 24 24\"\n",
              "       width=\"24px\">\n",
              "    <path d=\"M0 0h24v24H0V0z\" fill=\"none\"/>\n",
              "    <path d=\"M18.56 5.44l.94 2.06.94-2.06 2.06-.94-2.06-.94-.94-2.06-.94 2.06-2.06.94zm-11 1L8.5 8.5l.94-2.06 2.06-.94-2.06-.94L8.5 2.5l-.94 2.06-2.06.94zm10 10l.94 2.06.94-2.06 2.06-.94-2.06-.94-.94-2.06-.94 2.06-2.06.94z\"/><path d=\"M17.41 7.96l-1.37-1.37c-.4-.4-.92-.59-1.43-.59-.52 0-1.04.2-1.43.59L10.3 9.45l-7.72 7.72c-.78.78-.78 2.05 0 2.83L4 21.41c.39.39.9.59 1.41.59.51 0 1.02-.2 1.41-.59l7.78-7.78 2.81-2.81c.8-.78.8-2.07 0-2.86zM5.41 20L4 18.59l7.72-7.72 1.47 1.35L5.41 20z\"/>\n",
              "  </svg>\n",
              "      </button>\n",
              "      \n",
              "  <style>\n",
              "    .colab-df-container {\n",
              "      display:flex;\n",
              "      flex-wrap:wrap;\n",
              "      gap: 12px;\n",
              "    }\n",
              "\n",
              "    .colab-df-convert {\n",
              "      background-color: #E8F0FE;\n",
              "      border: none;\n",
              "      border-radius: 50%;\n",
              "      cursor: pointer;\n",
              "      display: none;\n",
              "      fill: #1967D2;\n",
              "      height: 32px;\n",
              "      padding: 0 0 0 0;\n",
              "      width: 32px;\n",
              "    }\n",
              "\n",
              "    .colab-df-convert:hover {\n",
              "      background-color: #E2EBFA;\n",
              "      box-shadow: 0px 1px 2px rgba(60, 64, 67, 0.3), 0px 1px 3px 1px rgba(60, 64, 67, 0.15);\n",
              "      fill: #174EA6;\n",
              "    }\n",
              "\n",
              "    [theme=dark] .colab-df-convert {\n",
              "      background-color: #3B4455;\n",
              "      fill: #D2E3FC;\n",
              "    }\n",
              "\n",
              "    [theme=dark] .colab-df-convert:hover {\n",
              "      background-color: #434B5C;\n",
              "      box-shadow: 0px 1px 3px 1px rgba(0, 0, 0, 0.15);\n",
              "      filter: drop-shadow(0px 1px 2px rgba(0, 0, 0, 0.3));\n",
              "      fill: #FFFFFF;\n",
              "    }\n",
              "  </style>\n",
              "\n",
              "      <script>\n",
              "        const buttonEl =\n",
              "          document.querySelector('#df-298fcc80-ce81-4281-9ea8-449f34c411b8 button.colab-df-convert');\n",
              "        buttonEl.style.display =\n",
              "          google.colab.kernel.accessAllowed ? 'block' : 'none';\n",
              "\n",
              "        async function convertToInteractive(key) {\n",
              "          const element = document.querySelector('#df-298fcc80-ce81-4281-9ea8-449f34c411b8');\n",
              "          const dataTable =\n",
              "            await google.colab.kernel.invokeFunction('convertToInteractive',\n",
              "                                                     [key], {});\n",
              "          if (!dataTable) return;\n",
              "\n",
              "          const docLinkHtml = 'Like what you see? Visit the ' +\n",
              "            '<a target=\"_blank\" href=https://colab.research.google.com/notebooks/data_table.ipynb>data table notebook</a>'\n",
              "            + ' to learn more about interactive tables.';\n",
              "          element.innerHTML = '';\n",
              "          dataTable['output_type'] = 'display_data';\n",
              "          await google.colab.output.renderOutput(dataTable, element);\n",
              "          const docLink = document.createElement('div');\n",
              "          docLink.innerHTML = docLinkHtml;\n",
              "          element.appendChild(docLink);\n",
              "        }\n",
              "      </script>\n",
              "    </div>\n",
              "  </div>\n",
              "  "
            ]
          },
          "metadata": {},
          "execution_count": 64
        }
      ]
    },
    {
      "cell_type": "markdown",
      "source": [
        "## Valor Médio por Bairro - Graficamente"
      ],
      "metadata": {
        "id": "BbeOE0Bcb050"
      }
    },
    {
      "cell_type": "code",
      "source": [
        "%matplotlib inline \n",
        "import matplotlib.pyplot as plt\n",
        "plt.rc('figure', figsize = (20, 10))\n",
        "fig = grupo_bairro.Valor.mean().plot.bar(color = 'blue')\n",
        "fig.set_ylabel('Valor do Aluguel')\n",
        "fig.set_title('Valor Médio do Aluguel por bairro', {'fontsize':22})"
      ],
      "metadata": {
        "colab": {
          "base_uri": "https://localhost:8080/",
          "height": 712
        },
        "id": "qDzx4LxYa1j9",
        "outputId": "9f8804c8-b4f9-43c0-8bbd-110db90f3823"
      },
      "execution_count": 65,
      "outputs": [
        {
          "output_type": "execute_result",
          "data": {
            "text/plain": [
              "Text(0.5, 1.0, 'Valor Médio do Aluguel por bairro')"
            ]
          },
          "metadata": {},
          "execution_count": 65
        },
        {
          "output_type": "display_data",
          "data": {
            "text/plain": [
              "<Figure size 1440x720 with 1 Axes>"
            ],
            "image/png": "[encoded data removed]"
          },
          "metadata": {
            "needs_background": "light"
          }
        }
      ]
    },
    {
      "cell_type": "markdown",
      "source": [
        "## Identificando e Removendo Outliers"
      ],
      "metadata": {
        "id": "KDCiJflfhJfH"
      }
    },
    {
      "cell_type": "markdown",
      "source": [
        "## Calculando os Quartis"
      ],
      "metadata": {
        "id": "Iyub5xcclT7X"
      }
    },
    {
      "cell_type": "code",
      "source": [
        "valor = dados_residencial.Valor"
      ],
      "metadata": {
        "id": "gc1WChmL4umL"
      },
      "execution_count": 80,
      "outputs": []
    },
    {
      "cell_type": "code",
      "source": [
        "Q1 = valor.quantile(.25) #primeiro quartil\n",
        "Q3 = valor.quantile(.75) #terceiro quartil\n",
        "IIQ = Q3 - Q1  #mediana\n",
        "lim_inferior = Q1 - 1.5 * IIQ\n",
        "lim_superior = Q3 + 1.5 * IIQ"
      ],
      "metadata": {
        "id": "DmmFtImjlU0b"
      },
      "execution_count": 83,
      "outputs": []
    },
    {
      "cell_type": "markdown",
      "source": [
        "# Criando Selecao para Excluir Outliers"
      ],
      "metadata": {
        "id": "ivgi15_-uEGr"
      }
    },
    {
      "cell_type": "markdown",
      "source": [
        "### Verificar Através do Boxplot se Há Outliers"
      ],
      "metadata": {
        "id": "SbmLVF1x5kXh"
      }
    },
    {
      "cell_type": "code",
      "source": [
        "# Claramente é possível notar que temos candidatos a outliers, aluguel mais de 10k\n",
        "dados_residencial.boxplot('Valor')"
      ],
      "metadata": {
        "colab": {
          "base_uri": "https://localhost:8080/",
          "height": 609
        },
        "id": "5IP8yP9Vypu5",
        "outputId": "a466542d-bb05-4df9-ac8b-898915cc96a1"
      },
      "execution_count": 91,
      "outputs": [
        {
          "output_type": "execute_result",
          "data": {
            "text/plain": [
              "<matplotlib.axes._subplots.AxesSubplot at 0x7f70c6b99e20>"
            ]
          },
          "metadata": {},
          "execution_count": 91
        },
        {
          "output_type": "display_data",
          "data": {
            "text/plain": [
              "<Figure size 1440x720 with 1 Axes>"
            ],
            "image/png": "[encoded data removed]"
          },
          "metadata": {
            "needs_background": "light"
          }
        }
      ]
    },
    {
      "cell_type": "markdown",
      "source": [
        "### Removendo Outliers através de uma seleção"
      ],
      "metadata": {
        "id": "aQIrrDr_5v_N"
      }
    },
    {
      "cell_type": "code",
      "source": [
        "selecao = (valor>= lim_inferior) & (valor<= 10000)\n",
        "dados_new = dados_residencial[selecao]"
      ],
      "metadata": {
        "id": "GAcvi40pzPk-"
      },
      "execution_count": 88,
      "outputs": []
    },
    {
      "cell_type": "markdown",
      "source": [
        "### Visualizando Boxplot após remoção dos outliers"
      ],
      "metadata": {
        "id": "DFIUak226BNR"
      }
    },
    {
      "cell_type": "code",
      "source": [
        "# Boxplot depois da remoção do outliers\n",
        "dados_new.boxplot('Valor')"
      ],
      "metadata": {
        "colab": {
          "base_uri": "https://localhost:8080/",
          "height": 609
        },
        "id": "Vf5tYcAIlkqj",
        "outputId": "0b8593ef-fb53-4d9a-bed3-af169b1bfb40"
      },
      "execution_count": 89,
      "outputs": [
        {
          "output_type": "execute_result",
          "data": {
            "text/plain": [
              "<matplotlib.axes._subplots.AxesSubplot at 0x7f70c6bbc700>"
            ]
          },
          "metadata": {},
          "execution_count": 89
        },
        {
          "output_type": "display_data",
          "data": {
            "text/plain": [
              "<Figure size 1440x720 with 1 Axes>"
            ],
            "image/png": "[encoded data removed]"
          },
          "metadata": {
            "needs_background": "light"
          }
        }
      ]
    },
    {
      "cell_type": "markdown",
      "source": [
        "### Histograma antes e depois da remoção dos outliers"
      ],
      "metadata": {
        "id": "YqrPUnyp6RyW"
      }
    },
    {
      "cell_type": "code",
      "source": [
        "dados_residencial.hist(['Valor'])\n",
        "dados_new.hist(['Valor'])"
      ],
      "metadata": {
        "colab": {
          "base_uri": "https://localhost:8080/",
          "height": 1000
        },
        "id": "M2xvsJSiuYEr",
        "outputId": "eaeddc6d-1a15-4696-8785-33fd5a3ac36d"
      },
      "execution_count": 92,
      "outputs": [
        {
          "output_type": "execute_result",
          "data": {
            "text/plain": [
              "array([[<matplotlib.axes._subplots.AxesSubplot object at 0x7f70c6a8b820>]],\n",
              "      dtype=object)"
            ]
          },
          "metadata": {},
          "execution_count": 92
        },
        {
          "output_type": "display_data",
          "data": {
            "text/plain": [
              "<Figure size 1440x720 with 1 Axes>"
            ],
            "image/png": "[encoded data removed]"
          },
          "metadata": {
            "needs_background": "light"
          }
        },
        {
          "output_type": "display_data",
          "data": {
            "text/plain": [
              "<Figure size 1440x720 with 1 Axes>"
            ],
            "image/png": "[encoded data removed]"
          },
          "metadata": {
            "needs_background": "light"
          }
        }
      ]
    },
    {
      "cell_type": "markdown",
      "source": [
        "##  Identificando e Removendo Outliers por Grupo"
      ],
      "metadata": {
        "id": "zSMSIH-e6xfB"
      }
    },
    {
      "cell_type": "code",
      "source": [
        "dados_residencial.boxplot(['Valor'], by = 'Tipo')"
      ],
      "metadata": {
        "colab": {
          "base_uri": "https://localhost:8080/",
          "height": 727
        },
        "id": "aIX0723d6lqA",
        "outputId": "35b71733-f6a4-46b3-da11-2c78d349b03e"
      },
      "execution_count": 94,
      "outputs": [
        {
          "output_type": "stream",
          "name": "stderr",
          "text": [
            "/usr/local/lib/python3.8/dist-packages/matplotlib/cbook/__init__.py:1376: VisibleDeprecationWarning: Creating an ndarray from ragged nested sequences (which is a list-or-tuple of lists-or-tuples-or ndarrays with different lengths or shapes) is deprecated. If you meant to do this, you must specify 'dtype=object' when creating the ndarray.\n",
            "  X = np.atleast_1d(X.T if isinstance(X, np.ndarray) else np.asarray(X))\n"
          ]
        },
        {
          "output_type": "execute_result",
          "data": {
            "text/plain": [
              "<matplotlib.axes._subplots.AxesSubplot at 0x7f70c6c75730>"
            ]
          },
          "metadata": {},
          "execution_count": 94
        },
        {
          "output_type": "display_data",
          "data": {
            "text/plain": [
              "<Figure size 1440x720 with 1 Axes>"
            ],
            "image/png": "[encoded data removed]"
          },
          "metadata": {
            "needs_background": "light"
          }
        }
      ]
    },
    {
      "cell_type": "code",
      "source": [
        "# Dessa forma iremos separar de acordo com o grupo e o valor total de cada grupo\n",
        "grupo_tipo = dados_residencial.groupby('Tipo')['Valor']"
      ],
      "metadata": {
        "id": "6frX7qXK74fh"
      },
      "execution_count": 95,
      "outputs": []
    },
    {
      "cell_type": "code",
      "execution_count": 98,
      "metadata": {
        "id": "316052ba"
      },
      "outputs": [],
      "source": [
        "# Criar Estatísticas e Limites dessses grupos\n",
        "Q1 = grupo_tipo.quantile(.25)\n",
        "Q3 = grupo_tipo.quantile(.75)\n",
        "IIQ = Q3 - Q1  #mediana\n",
        "lim_inferior = Q1 - 1.5 * IIQ\n",
        "lim_superior = Q3 + 1.5 * IIQ"
      ]
    },
    {
      "cell_type": "markdown",
      "source": [
        "## Criando Selecao para Excluir Outliers"
      ],
      "metadata": {
        "id": "n4TUwKDC9SRG"
      }
    },
    {
      "cell_type": "code",
      "source": [
        "dados_new = pd.DataFrame()"
      ],
      "metadata": {
        "id": "2IwkFstI8qJC"
      },
      "execution_count": 99,
      "outputs": []
    },
    {
      "cell_type": "markdown",
      "source": [
        "####Para tipo(nome da var que vai rodar) em grupo_tipo.groups(variável agrupada com groupby)\n",
        "\n",
        "####Serão coletadas as chaves do dicionário. Agora precisaremos realizar uma seleção e em um caso que temos mais de um tipo de variável, Tipo e Valor."
      ],
      "metadata": {
        "id": "62mOmHbiDeM_"
      }
    },
    {
      "cell_type": "code",
      "source": [
        "for tipo in grupo_tipo.groups.keys():\n",
        "  eh_tipo = dados_residencial['Tipo'] == tipo\n",
        "  eh_dentro_limite = (dados_residencial['Valor'] >= lim_inferior[tipo]) & (dados_residencial['Valor'] <= lim_superior[tipo])\n",
        "  selecao = eh_tipo & eh_dentro_limite\n",
        "  dados_selecao = dados_residencial[selecao]\n",
        "  dados_new = pd.concat([dados_new, dados_selecao])"
      ],
      "metadata": {
        "id": "Ffa3R50z9Yp7"
      },
      "execution_count": 108,
      "outputs": []
    },
    {
      "cell_type": "code",
      "source": [
        "#Boxplot após a remoção dos outliers\n",
        "dados_new.boxplot(['Valor'], by = 'Tipo')"
      ],
      "metadata": {
        "colab": {
          "base_uri": "https://localhost:8080/",
          "height": 727
        },
        "id": "WmUdfPdO-UGw",
        "outputId": "dc76333a-3894-4665-9246-4dc7e26a634b"
      },
      "execution_count": 112,
      "outputs": [
        {
          "output_type": "stream",
          "name": "stderr",
          "text": [
            "/usr/local/lib/python3.8/dist-packages/matplotlib/cbook/__init__.py:1376: VisibleDeprecationWarning: Creating an ndarray from ragged nested sequences (which is a list-or-tuple of lists-or-tuples-or ndarrays with different lengths or shapes) is deprecated. If you meant to do this, you must specify 'dtype=object' when creating the ndarray.\n",
            "  X = np.atleast_1d(X.T if isinstance(X, np.ndarray) else np.asarray(X))\n"
          ]
        },
        {
          "output_type": "execute_result",
          "data": {
            "text/plain": [
              "<matplotlib.axes._subplots.AxesSubplot at 0x7f70c6a664c0>"
            ]
          },
          "metadata": {},
          "execution_count": 112
        },
        {
          "output_type": "display_data",
          "data": {
            "text/plain": [
              "<Figure size 1440x720 with 1 Axes>"
            ],
            "image/png": "[encoded data removed]"
          },
          "metadata": {
            "needs_background": "light"
          }
        }
      ]
    }
  ]
}